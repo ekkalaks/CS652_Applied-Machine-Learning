{
  "nbformat": 4,
  "nbformat_minor": 0,
  "metadata": {
    "colab": {
      "name": "kNN_breast_cancer.ipynb",
      "provenance": []
    },
    "kernelspec": {
      "name": "python3",
      "display_name": "Python 3"
    },
    "language_info": {
      "name": "python"
    }
  },
  "cells": [
    {
      "cell_type": "code",
      "metadata": {
        "id": "GkD-KZN0esFO"
      },
      "source": [
        "from sklearn.datasets import load_breast_cancer \n",
        "from sklearn.model_selection import train_test_split\n",
        "from sklearn.neighbors import KNeighborsClassifier\n",
        "from matplotlib import pyplot as plt\n",
        "\n",
        "cancer = load_breast_cancer()\u000b\n",
        "X_train, X_test, y_train, y_test = train_test_split(cancer.data, cancer.target, stratify=cancer.target, random_state=66) \n",
        "training_accuracy = [] \n",
        "test_accuracy = []\u000b\n",
        "\n",
        "# try n_neighbors from 1 to 10 \n",
        "neighbors_settings = range(1, 11) \n",
        "for n_neighbors in neighbors_settings:\u000b\t\n",
        "  # build the model\u000b\t\n",
        "  clf = KNeighborsClassifier(n_neighbors=n_neighbors) \n",
        "  clf.fit(X_train, y_train)\t\n",
        "  # record training set accuracy \n",
        "  training_accuracy.append(clf.score(X_train, y_train))\n",
        "  # record generalization accuracy\n",
        "  test_accuracy.append(clf.score(X_test, y_test))\n",
        " \n",
        "plt.plot(neighbors_settings, training_accuracy, label=\"training accuracy\") \n",
        "plt.plot(neighbors_settings, test_accuracy, label=\"test accuracy\") \n",
        "plt.ylabel(\"Accuracy\")\u000b\n",
        "plt.xlabel(\"n_neighbors\") \n",
        "plt.legend() \n"
      ],
      "execution_count": null,
      "outputs": []
    }
  ]
}