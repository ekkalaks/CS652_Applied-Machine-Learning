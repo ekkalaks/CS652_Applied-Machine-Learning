{
  "nbformat": 4,
  "nbformat_minor": 0,
  "metadata": {
    "colab": {
      "name": "kNN_forge.ipynb",
      "provenance": []
    },
    "kernelspec": {
      "name": "python3",
      "display_name": "Python 3"
    },
    "language_info": {
      "name": "python"
    }
  },
  "cells": [
    {
      "cell_type": "code",
      "metadata": {
        "id": "iN9vpyJyb6UM"
      },
      "source": [
        "!pip install mglearn"
      ],
      "execution_count": null,
      "outputs": []
    },
    {
      "cell_type": "code",
      "metadata": {
        "id": "EmYh_pV7bnxg"
      },
      "source": [
        "import mglearn\n",
        "from sklearn.model_selection import train_test_split \n",
        "X, y = mglearn.datasets.make_forge()"
      ],
      "execution_count": null,
      "outputs": []
    },
    {
      "cell_type": "code",
      "metadata": {
        "id": "HNq0nt_KcQkV"
      },
      "source": [
        "X_train, X_test, y_train, y_test = train_test_split(X, y, random_state=0)\u000b\n"
      ],
      "execution_count": 6,
      "outputs": []
    },
    {
      "cell_type": "code",
      "metadata": {
        "id": "RlCTEPpycGss"
      },
      "source": [
        "from sklearn.neighbors import KNeighborsClassifier \n",
        "clf = KNeighborsClassifier(n_neighbors=3) \n"
      ],
      "execution_count": 7,
      "outputs": []
    },
    {
      "cell_type": "code",
      "metadata": {
        "id": "hngCiwO2cJ-k"
      },
      "source": [
        "clf.fit(X_train, y_train) \n"
      ],
      "execution_count": null,
      "outputs": []
    },
    {
      "cell_type": "code",
      "metadata": {
        "colab": {
          "base_uri": "https://localhost:8080/"
        },
        "id": "tWfMkDctcWfh",
        "outputId": "35392bb5-7545-4b61-e6ba-81555386a6f0"
      },
      "source": [
        "print(\"Test set predictions: {}\".format(clf.predict(X_test))) \n"
      ],
      "execution_count": 9,
      "outputs": [
        {
          "output_type": "stream",
          "text": [
            "Test set predictions: [1 0 1 0 1 0 0]\n"
          ],
          "name": "stdout"
        }
      ]
    },
    {
      "cell_type": "code",
      "metadata": {
        "id": "ZQ3K2bXAcZsF"
      },
      "source": [
        "print(\"Test set accuracy: {:.2f}\".format(clf.score(X_test, y_test))) \n"
      ],
      "execution_count": null,
      "outputs": []
    },
    {
      "cell_type": "code",
      "metadata": {
        "id": "0vgKsAt-cgHc"
      },
      "source": [
        "import matplotlib.pyplot as plt\n",
        "\n",
        "fig, axes = plt.subplots(1, 3, figsize=(10, 3))\n",
        "for n_neighbors, ax in zip([1, 3, 9], axes):\n",
        "# the fit method returns the object self, so we can instantiate\n",
        "# and fit in one line\n",
        "  clf = KNeighborsClassifier(n_neighbors=n_neighbors).fit(X, y) \n",
        "  mglearn.plots.plot_2d_separator(clf, X, fill=True, eps=0.5, ax=ax, alpha=.4) \n",
        "  mglearn.discrete_scatter(X[:, 0], X[:, 1], y, ax=ax)\n",
        "  ax.set_title(\"{} neighbor(s)\".format(n_neighbors))\n",
        "  ax.set_xlabel(\"feature 0\")\n",
        "  ax.set_ylabel(\"feature 1\")\n",
        "  axes[0].legend(loc=3)\n"
      ],
      "execution_count": null,
      "outputs": []
    }
  ]
}