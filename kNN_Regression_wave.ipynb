{
  "nbformat": 4,
  "nbformat_minor": 0,
  "metadata": {
    "colab": {
      "name": "kNN_Regression_wave.ipynb",
      "provenance": []
    },
    "kernelspec": {
      "name": "python3",
      "display_name": "Python 3"
    },
    "language_info": {
      "name": "python"
    }
  },
  "cells": [
    {
      "cell_type": "code",
      "metadata": {
        "id": "ibfCgJ1GgdXo"
      },
      "source": [
        "!pip install mglearn"
      ],
      "execution_count": null,
      "outputs": []
    },
    {
      "cell_type": "code",
      "metadata": {
        "id": "Z5O4rfdGgjid"
      },
      "source": [
        "import mglearn\n",
        "from sklearn.model_selection import train_test_split\n",
        "from sklearn.neighbors import KNeighborsRegressor\n"
      ],
      "execution_count": 8,
      "outputs": []
    },
    {
      "cell_type": "code",
      "metadata": {
        "id": "gpGu4MaggOx7"
      },
      "source": [
        "X, y = mglearn.datasets.make_wave(n_samples=40) \n",
        "\n",
        "# split the wave dataset into a training and a test set \n",
        "X_train, X_test, y_train, y_test = train_test_split(X, y, random_state=0)\n",
        " \n",
        "# instantiate the model and set the number of neighbors to consider to 3 \n",
        "reg = KNeighborsRegressor(n_neighbors=3)\n",
        "\u000b# fit the model using the training data and training targets \n",
        "reg.fit(X_train, y_train) \n"
      ],
      "execution_count": null,
      "outputs": []
    },
    {
      "cell_type": "code",
      "metadata": {
        "id": "Avoqnl-qgU-g"
      },
      "source": [
        "print(\"Test set predictions:\\n{}\".format(reg.predict(X_test))) \n"
      ],
      "execution_count": null,
      "outputs": []
    },
    {
      "cell_type": "code",
      "metadata": {
        "id": "0aywynocgV8Q"
      },
      "source": [
        "print(\"Test set R^2: {:.2f}\".format(reg.score(X_test, y_test))) \n"
      ],
      "execution_count": null,
      "outputs": []
    },
    {
      "cell_type": "code",
      "metadata": {
        "id": "XLxl3BvLhF5j"
      },
      "source": [
        "mglearn.plots.plot_knn_regression(n_neighbors=1) \n"
      ],
      "execution_count": null,
      "outputs": []
    },
    {
      "cell_type": "code",
      "metadata": {
        "id": "AGm-IZUthJcb"
      },
      "source": [
        "mglearn.plots.plot_knn_regression(n_neighbors=3) \n"
      ],
      "execution_count": null,
      "outputs": []
    }
  ]
}