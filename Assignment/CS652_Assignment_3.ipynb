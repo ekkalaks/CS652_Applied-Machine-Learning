{
  "nbformat": 4,
  "nbformat_minor": 0,
  "metadata": {
    "colab": {
      "name": "CS652_Assignment_3.ipynb",
      "provenance": [],
      "authorship_tag": "ABX9TyNfncIhOkOWnAupJilxBMrP",
      "include_colab_link": true
    },
    "kernelspec": {
      "name": "python3",
      "display_name": "Python 3"
    },
    "language_info": {
      "name": "python"
    }
  },
  "cells": [
    {
      "cell_type": "markdown",
      "metadata": {
        "id": "view-in-github",
        "colab_type": "text"
      },
      "source": [
        "<a href=\"https://colab.research.google.com/github/ekkalaks/CS652_Applied-Machine-Learning/blob/main/Assignment/CS652_Assignment_3.ipynb\" target=\"_parent\"><img src=\"https://colab.research.google.com/assets/colab-badge.svg\" alt=\"Open In Colab\"/></a>"
      ]
    },
    {
      "cell_type": "markdown",
      "source": [
        "# CS652: Assignment 3\n",
        "6409035646 เอกลักษณ์ สุขมาลพงศ์กุล\n",
        "\n",
        "github: https://github.com/ekkalaks/CS652_Applied-Machine-Learning/blob/main/CS652_Applied-Machine-Learning/Assignment/CS652_Assignment_3.ipynb"
      ],
      "metadata": {
        "id": "ocX5jdGqsb89"
      }
    },
    {
      "cell_type": "code",
      "execution_count": 2,
      "metadata": {
        "id": "fvYd79wCsS8c"
      },
      "outputs": [],
      "source": [
        "# Import Module ใช้กับข้อที่ 1 และ 2\n",
        "from sklearn.datasets import fetch_openml\n",
        "import matplotlib.pyplot as plt\n",
        "import pandas as pd\n",
        "import numpy as np"
      ]
    },
    {
      "cell_type": "code",
      "source": [
        "# import module ใช้กับ ข้อที่ 3\n",
        "from sklearn.preprocessing import OneHotEncoder, LabelEncoder"
      ],
      "metadata": {
        "id": "rdIO5G9oKgbW"
      },
      "execution_count": 3,
      "outputs": []
    },
    {
      "cell_type": "code",
      "source": [
        "# import module ใช้กับ ข้อที่ 4-8\n",
        "from sklearn.model_selection import train_test_split, GridSearchCV\n",
        "from sklearn.compose import make_column_transformer\n",
        "from sklearn.pipeline import make_pipeline"
      ],
      "metadata": {
        "id": "hu2tnlxGwBje"
      },
      "execution_count": 4,
      "outputs": []
    },
    {
      "cell_type": "code",
      "source": [
        "# import module ใช้กับ ข้อที่ 4-8\n",
        "from sklearn.model_selection import KFold, StratifiedKFold, cross_val_score"
      ],
      "metadata": {
        "id": "8euxtqpLiym9"
      },
      "execution_count": 5,
      "outputs": []
    },
    {
      "cell_type": "code",
      "source": [
        "# import module ใช้กับ ข้อที่ 4-8\n",
        "from sklearn.linear_model import LogisticRegression\n",
        "from sklearn.svm import LinearSVC\n",
        "from sklearn.neighbors import KNeighborsClassifier"
      ],
      "metadata": {
        "id": "9Pf8QYVKy5tp"
      },
      "execution_count": 6,
      "outputs": []
    },
    {
      "cell_type": "code",
      "source": [
        "from sklearn.preprocessing import StandardScaler"
      ],
      "metadata": {
        "id": "-ivMvk-83b9X"
      },
      "execution_count": 7,
      "outputs": []
    },
    {
      "cell_type": "markdown",
      "source": [
        "## ข้อ 1 \n",
        "โหลด datasetชือ credit-g จาก openml โดยใช้คําสัง fetch_openml(‘credit-g’) ทีอยู่ใน\n",
        "sklearn.datasets พร้อมแสดงตัวอย่างข้อมูล สามารถเข้าไปดูคําอธิบายข้อมูลได้จาก \n",
        "https://www.openml.org/d/31 "
      ],
      "metadata": {
        "id": "eHnjCX5Gsouw"
      }
    },
    {
      "cell_type": "code",
      "source": [
        "# โหลด 'credit-g' เข้าตัวแปร credit_data\n",
        "credit_data = fetch_openml('credit-g', version='active')"
      ],
      "metadata": {
        "id": "8afZUEVMtEUt"
      },
      "execution_count": 8,
      "outputs": []
    },
    {
      "cell_type": "code",
      "source": [
        "# แสดงรายละเอียดข้อมูล credit-g\n",
        "print(credit_data.DESCR)"
      ],
      "metadata": {
        "colab": {
          "base_uri": "https://localhost:8080/"
        },
        "id": "zKmVyAvftYpq",
        "outputId": "272b0aa0-2ea1-4146-9225-bcfdcc421648"
      },
      "execution_count": 9,
      "outputs": [
        {
          "output_type": "stream",
          "name": "stdout",
          "text": [
            "**Author**: Dr. Hans Hofmann  \n",
            "**Source**: [UCI](https://archive.ics.uci.edu/ml/datasets/statlog+(german+credit+data)) - 1994    \n",
            "**Please cite**: [UCI](https://archive.ics.uci.edu/ml/citation_policy.html)\n",
            "\n",
            "**German Credit dataset**  \n",
            "This dataset classifies people described by a set of attributes as good or bad credit risks.\n",
            "\n",
            "This dataset comes with a cost matrix: \n",
            "``` \n",
            "Good  Bad (predicted)  \n",
            "Good   0    1 (actual)  \n",
            "Bad    5    0  \n",
            "```\n",
            "\n",
            "It is worse to class a customer as good when they are bad (5), than it is to class a customer as bad when they are good (1).  \n",
            "\n",
            "### Attribute description  \n",
            "\n",
            "1. Status of existing checking account, in Deutsche Mark.  \n",
            "2. Duration in months  \n",
            "3. Credit history (credits taken, paid back duly, delays, critical accounts)  \n",
            "4. Purpose of the credit (car, television,...)  \n",
            "5. Credit amount  \n",
            "6. Status of savings account/bonds, in Deutsche Mark.  \n",
            "7. Present employment, in number of years.  \n",
            "8. Installment rate in percentage of disposable income  \n",
            "9. Personal status (married, single,...) and sex  \n",
            "10. Other debtors / guarantors  \n",
            "11. Present residence since X years  \n",
            "12. Property (e.g. real estate)  \n",
            "13. Age in years  \n",
            "14. Other installment plans (banks, stores)  \n",
            "15. Housing (rent, own,...)  \n",
            "16. Number of existing credits at this bank  \n",
            "17. Job  \n",
            "18. Number of people being liable to provide maintenance for  \n",
            "19. Telephone (yes,no)  \n",
            "20. Foreign worker (yes,no)\n",
            "\n",
            "Downloaded from openml.org.\n"
          ]
        }
      ]
    },
    {
      "cell_type": "code",
      "source": [
        "# แปลง credit_data เป็น Dataframe ด้วย pandas\n",
        "credit_df = pd.DataFrame(credit_data.data, columns=credit_data.feature_names)\n",
        "credit_df['class'] = credit_data.target"
      ],
      "metadata": {
        "id": "Ql8SJn6etxTV"
      },
      "execution_count": 10,
      "outputs": []
    },
    {
      "cell_type": "code",
      "source": [
        "# แสดง ตัวอย่าง credit_df\n",
        "credit_df.head()"
      ],
      "metadata": {
        "colab": {
          "base_uri": "https://localhost:8080/",
          "height": 368
        },
        "id": "72YTZ2rZx6gH",
        "outputId": "07850dea-39c2-4150-cd6f-b9baf4e59b36"
      },
      "execution_count": 11,
      "outputs": [
        {
          "output_type": "execute_result",
          "data": {
            "text/html": [
              "\n",
              "  <div id=\"df-a1e791fe-a9d0-4d30-99ef-0d49a9dd8244\">\n",
              "    <div class=\"colab-df-container\">\n",
              "      <div>\n",
              "<style scoped>\n",
              "    .dataframe tbody tr th:only-of-type {\n",
              "        vertical-align: middle;\n",
              "    }\n",
              "\n",
              "    .dataframe tbody tr th {\n",
              "        vertical-align: top;\n",
              "    }\n",
              "\n",
              "    .dataframe thead th {\n",
              "        text-align: right;\n",
              "    }\n",
              "</style>\n",
              "<table border=\"1\" class=\"dataframe\">\n",
              "  <thead>\n",
              "    <tr style=\"text-align: right;\">\n",
              "      <th></th>\n",
              "      <th>checking_status</th>\n",
              "      <th>duration</th>\n",
              "      <th>credit_history</th>\n",
              "      <th>purpose</th>\n",
              "      <th>credit_amount</th>\n",
              "      <th>savings_status</th>\n",
              "      <th>employment</th>\n",
              "      <th>installment_commitment</th>\n",
              "      <th>personal_status</th>\n",
              "      <th>other_parties</th>\n",
              "      <th>...</th>\n",
              "      <th>property_magnitude</th>\n",
              "      <th>age</th>\n",
              "      <th>other_payment_plans</th>\n",
              "      <th>housing</th>\n",
              "      <th>existing_credits</th>\n",
              "      <th>job</th>\n",
              "      <th>num_dependents</th>\n",
              "      <th>own_telephone</th>\n",
              "      <th>foreign_worker</th>\n",
              "      <th>class</th>\n",
              "    </tr>\n",
              "  </thead>\n",
              "  <tbody>\n",
              "    <tr>\n",
              "      <th>0</th>\n",
              "      <td>&lt;0</td>\n",
              "      <td>6.0</td>\n",
              "      <td>critical/other existing credit</td>\n",
              "      <td>radio/tv</td>\n",
              "      <td>1169.0</td>\n",
              "      <td>no known savings</td>\n",
              "      <td>&gt;=7</td>\n",
              "      <td>4.0</td>\n",
              "      <td>male single</td>\n",
              "      <td>none</td>\n",
              "      <td>...</td>\n",
              "      <td>real estate</td>\n",
              "      <td>67.0</td>\n",
              "      <td>none</td>\n",
              "      <td>own</td>\n",
              "      <td>2.0</td>\n",
              "      <td>skilled</td>\n",
              "      <td>1.0</td>\n",
              "      <td>yes</td>\n",
              "      <td>yes</td>\n",
              "      <td>good</td>\n",
              "    </tr>\n",
              "    <tr>\n",
              "      <th>1</th>\n",
              "      <td>0&lt;=X&lt;200</td>\n",
              "      <td>48.0</td>\n",
              "      <td>existing paid</td>\n",
              "      <td>radio/tv</td>\n",
              "      <td>5951.0</td>\n",
              "      <td>&lt;100</td>\n",
              "      <td>1&lt;=X&lt;4</td>\n",
              "      <td>2.0</td>\n",
              "      <td>female div/dep/mar</td>\n",
              "      <td>none</td>\n",
              "      <td>...</td>\n",
              "      <td>real estate</td>\n",
              "      <td>22.0</td>\n",
              "      <td>none</td>\n",
              "      <td>own</td>\n",
              "      <td>1.0</td>\n",
              "      <td>skilled</td>\n",
              "      <td>1.0</td>\n",
              "      <td>none</td>\n",
              "      <td>yes</td>\n",
              "      <td>bad</td>\n",
              "    </tr>\n",
              "    <tr>\n",
              "      <th>2</th>\n",
              "      <td>no checking</td>\n",
              "      <td>12.0</td>\n",
              "      <td>critical/other existing credit</td>\n",
              "      <td>education</td>\n",
              "      <td>2096.0</td>\n",
              "      <td>&lt;100</td>\n",
              "      <td>4&lt;=X&lt;7</td>\n",
              "      <td>2.0</td>\n",
              "      <td>male single</td>\n",
              "      <td>none</td>\n",
              "      <td>...</td>\n",
              "      <td>real estate</td>\n",
              "      <td>49.0</td>\n",
              "      <td>none</td>\n",
              "      <td>own</td>\n",
              "      <td>1.0</td>\n",
              "      <td>unskilled resident</td>\n",
              "      <td>2.0</td>\n",
              "      <td>none</td>\n",
              "      <td>yes</td>\n",
              "      <td>good</td>\n",
              "    </tr>\n",
              "    <tr>\n",
              "      <th>3</th>\n",
              "      <td>&lt;0</td>\n",
              "      <td>42.0</td>\n",
              "      <td>existing paid</td>\n",
              "      <td>furniture/equipment</td>\n",
              "      <td>7882.0</td>\n",
              "      <td>&lt;100</td>\n",
              "      <td>4&lt;=X&lt;7</td>\n",
              "      <td>2.0</td>\n",
              "      <td>male single</td>\n",
              "      <td>guarantor</td>\n",
              "      <td>...</td>\n",
              "      <td>life insurance</td>\n",
              "      <td>45.0</td>\n",
              "      <td>none</td>\n",
              "      <td>for free</td>\n",
              "      <td>1.0</td>\n",
              "      <td>skilled</td>\n",
              "      <td>2.0</td>\n",
              "      <td>none</td>\n",
              "      <td>yes</td>\n",
              "      <td>good</td>\n",
              "    </tr>\n",
              "    <tr>\n",
              "      <th>4</th>\n",
              "      <td>&lt;0</td>\n",
              "      <td>24.0</td>\n",
              "      <td>delayed previously</td>\n",
              "      <td>new car</td>\n",
              "      <td>4870.0</td>\n",
              "      <td>&lt;100</td>\n",
              "      <td>1&lt;=X&lt;4</td>\n",
              "      <td>3.0</td>\n",
              "      <td>male single</td>\n",
              "      <td>none</td>\n",
              "      <td>...</td>\n",
              "      <td>no known property</td>\n",
              "      <td>53.0</td>\n",
              "      <td>none</td>\n",
              "      <td>for free</td>\n",
              "      <td>2.0</td>\n",
              "      <td>skilled</td>\n",
              "      <td>2.0</td>\n",
              "      <td>none</td>\n",
              "      <td>yes</td>\n",
              "      <td>bad</td>\n",
              "    </tr>\n",
              "  </tbody>\n",
              "</table>\n",
              "<p>5 rows × 21 columns</p>\n",
              "</div>\n",
              "      <button class=\"colab-df-convert\" onclick=\"convertToInteractive('df-a1e791fe-a9d0-4d30-99ef-0d49a9dd8244')\"\n",
              "              title=\"Convert this dataframe to an interactive table.\"\n",
              "              style=\"display:none;\">\n",
              "        \n",
              "  <svg xmlns=\"http://www.w3.org/2000/svg\" height=\"24px\"viewBox=\"0 0 24 24\"\n",
              "       width=\"24px\">\n",
              "    <path d=\"M0 0h24v24H0V0z\" fill=\"none\"/>\n",
              "    <path d=\"M18.56 5.44l.94 2.06.94-2.06 2.06-.94-2.06-.94-.94-2.06-.94 2.06-2.06.94zm-11 1L8.5 8.5l.94-2.06 2.06-.94-2.06-.94L8.5 2.5l-.94 2.06-2.06.94zm10 10l.94 2.06.94-2.06 2.06-.94-2.06-.94-.94-2.06-.94 2.06-2.06.94z\"/><path d=\"M17.41 7.96l-1.37-1.37c-.4-.4-.92-.59-1.43-.59-.52 0-1.04.2-1.43.59L10.3 9.45l-7.72 7.72c-.78.78-.78 2.05 0 2.83L4 21.41c.39.39.9.59 1.41.59.51 0 1.02-.2 1.41-.59l7.78-7.78 2.81-2.81c.8-.78.8-2.07 0-2.86zM5.41 20L4 18.59l7.72-7.72 1.47 1.35L5.41 20z\"/>\n",
              "  </svg>\n",
              "      </button>\n",
              "      \n",
              "  <style>\n",
              "    .colab-df-container {\n",
              "      display:flex;\n",
              "      flex-wrap:wrap;\n",
              "      gap: 12px;\n",
              "    }\n",
              "\n",
              "    .colab-df-convert {\n",
              "      background-color: #E8F0FE;\n",
              "      border: none;\n",
              "      border-radius: 50%;\n",
              "      cursor: pointer;\n",
              "      display: none;\n",
              "      fill: #1967D2;\n",
              "      height: 32px;\n",
              "      padding: 0 0 0 0;\n",
              "      width: 32px;\n",
              "    }\n",
              "\n",
              "    .colab-df-convert:hover {\n",
              "      background-color: #E2EBFA;\n",
              "      box-shadow: 0px 1px 2px rgba(60, 64, 67, 0.3), 0px 1px 3px 1px rgba(60, 64, 67, 0.15);\n",
              "      fill: #174EA6;\n",
              "    }\n",
              "\n",
              "    [theme=dark] .colab-df-convert {\n",
              "      background-color: #3B4455;\n",
              "      fill: #D2E3FC;\n",
              "    }\n",
              "\n",
              "    [theme=dark] .colab-df-convert:hover {\n",
              "      background-color: #434B5C;\n",
              "      box-shadow: 0px 1px 3px 1px rgba(0, 0, 0, 0.15);\n",
              "      filter: drop-shadow(0px 1px 2px rgba(0, 0, 0, 0.3));\n",
              "      fill: #FFFFFF;\n",
              "    }\n",
              "  </style>\n",
              "\n",
              "      <script>\n",
              "        const buttonEl =\n",
              "          document.querySelector('#df-a1e791fe-a9d0-4d30-99ef-0d49a9dd8244 button.colab-df-convert');\n",
              "        buttonEl.style.display =\n",
              "          google.colab.kernel.accessAllowed ? 'block' : 'none';\n",
              "\n",
              "        async function convertToInteractive(key) {\n",
              "          const element = document.querySelector('#df-a1e791fe-a9d0-4d30-99ef-0d49a9dd8244');\n",
              "          const dataTable =\n",
              "            await google.colab.kernel.invokeFunction('convertToInteractive',\n",
              "                                                     [key], {});\n",
              "          if (!dataTable) return;\n",
              "\n",
              "          const docLinkHtml = 'Like what you see? Visit the ' +\n",
              "            '<a target=\"_blank\" href=https://colab.research.google.com/notebooks/data_table.ipynb>data table notebook</a>'\n",
              "            + ' to learn more about interactive tables.';\n",
              "          element.innerHTML = '';\n",
              "          dataTable['output_type'] = 'display_data';\n",
              "          await google.colab.output.renderOutput(dataTable, element);\n",
              "          const docLink = document.createElement('div');\n",
              "          docLink.innerHTML = docLinkHtml;\n",
              "          element.appendChild(docLink);\n",
              "        }\n",
              "      </script>\n",
              "    </div>\n",
              "  </div>\n",
              "  "
            ],
            "text/plain": [
              "  checking_status  duration                  credit_history  \\\n",
              "0              <0       6.0  critical/other existing credit   \n",
              "1        0<=X<200      48.0                   existing paid   \n",
              "2     no checking      12.0  critical/other existing credit   \n",
              "3              <0      42.0                   existing paid   \n",
              "4              <0      24.0              delayed previously   \n",
              "\n",
              "               purpose  credit_amount    savings_status employment  \\\n",
              "0             radio/tv         1169.0  no known savings        >=7   \n",
              "1             radio/tv         5951.0              <100     1<=X<4   \n",
              "2            education         2096.0              <100     4<=X<7   \n",
              "3  furniture/equipment         7882.0              <100     4<=X<7   \n",
              "4              new car         4870.0              <100     1<=X<4   \n",
              "\n",
              "   installment_commitment     personal_status other_parties  ...  \\\n",
              "0                     4.0         male single          none  ...   \n",
              "1                     2.0  female div/dep/mar          none  ...   \n",
              "2                     2.0         male single          none  ...   \n",
              "3                     2.0         male single     guarantor  ...   \n",
              "4                     3.0         male single          none  ...   \n",
              "\n",
              "   property_magnitude   age  other_payment_plans   housing existing_credits  \\\n",
              "0         real estate  67.0                 none       own              2.0   \n",
              "1         real estate  22.0                 none       own              1.0   \n",
              "2         real estate  49.0                 none       own              1.0   \n",
              "3      life insurance  45.0                 none  for free              1.0   \n",
              "4   no known property  53.0                 none  for free              2.0   \n",
              "\n",
              "                  job num_dependents  own_telephone foreign_worker class  \n",
              "0             skilled            1.0            yes            yes  good  \n",
              "1             skilled            1.0           none            yes   bad  \n",
              "2  unskilled resident            2.0           none            yes  good  \n",
              "3             skilled            2.0           none            yes  good  \n",
              "4             skilled            2.0           none            yes   bad  \n",
              "\n",
              "[5 rows x 21 columns]"
            ]
          },
          "metadata": {},
          "execution_count": 11
        }
      ]
    },
    {
      "cell_type": "code",
      "source": [
        "credit_df.info()"
      ],
      "metadata": {
        "colab": {
          "base_uri": "https://localhost:8080/"
        },
        "id": "nPjvWgKWykr8",
        "outputId": "29d97c5f-06d5-4912-edcc-a7f8e9d5db0b"
      },
      "execution_count": 12,
      "outputs": [
        {
          "output_type": "stream",
          "name": "stdout",
          "text": [
            "<class 'pandas.core.frame.DataFrame'>\n",
            "RangeIndex: 1000 entries, 0 to 999\n",
            "Data columns (total 21 columns):\n",
            " #   Column                  Non-Null Count  Dtype   \n",
            "---  ------                  --------------  -----   \n",
            " 0   checking_status         1000 non-null   category\n",
            " 1   duration                1000 non-null   float64 \n",
            " 2   credit_history          1000 non-null   category\n",
            " 3   purpose                 1000 non-null   category\n",
            " 4   credit_amount           1000 non-null   float64 \n",
            " 5   savings_status          1000 non-null   category\n",
            " 6   employment              1000 non-null   category\n",
            " 7   installment_commitment  1000 non-null   float64 \n",
            " 8   personal_status         1000 non-null   category\n",
            " 9   other_parties           1000 non-null   category\n",
            " 10  residence_since         1000 non-null   float64 \n",
            " 11  property_magnitude      1000 non-null   category\n",
            " 12  age                     1000 non-null   float64 \n",
            " 13  other_payment_plans     1000 non-null   category\n",
            " 14  housing                 1000 non-null   category\n",
            " 15  existing_credits        1000 non-null   float64 \n",
            " 16  job                     1000 non-null   category\n",
            " 17  num_dependents          1000 non-null   float64 \n",
            " 18  own_telephone           1000 non-null   category\n",
            " 19  foreign_worker          1000 non-null   category\n",
            " 20  class                   1000 non-null   category\n",
            "dtypes: category(14), float64(7)\n",
            "memory usage: 71.0 KB\n"
          ]
        }
      ]
    },
    {
      "cell_type": "markdown",
      "source": [
        "### จะเห็นได้ว่า features/attributes ที่มีการกระจายแบบต่อเนื่องได้แก่\n",
        "\n",
        "\n",
        "> duration, credit_amount,\tinstallment_commitment,\tresidence_since,\tage,\texisting_credits,\tnum_dependents"
      ],
      "metadata": {
        "id": "4Q0Phs6p3CJH"
      }
    },
    {
      "cell_type": "code",
      "source": [
        "credit_df.describe()"
      ],
      "metadata": {
        "colab": {
          "base_uri": "https://localhost:8080/",
          "height": 300
        },
        "id": "Oh-9oWaSx-py",
        "outputId": "0bcd6dbd-2741-4bc3-c1d5-e011433776e7"
      },
      "execution_count": 13,
      "outputs": [
        {
          "output_type": "execute_result",
          "data": {
            "text/html": [
              "\n",
              "  <div id=\"df-46ab88bd-0aaf-4d7e-b48a-aaa5b20e1c68\">\n",
              "    <div class=\"colab-df-container\">\n",
              "      <div>\n",
              "<style scoped>\n",
              "    .dataframe tbody tr th:only-of-type {\n",
              "        vertical-align: middle;\n",
              "    }\n",
              "\n",
              "    .dataframe tbody tr th {\n",
              "        vertical-align: top;\n",
              "    }\n",
              "\n",
              "    .dataframe thead th {\n",
              "        text-align: right;\n",
              "    }\n",
              "</style>\n",
              "<table border=\"1\" class=\"dataframe\">\n",
              "  <thead>\n",
              "    <tr style=\"text-align: right;\">\n",
              "      <th></th>\n",
              "      <th>duration</th>\n",
              "      <th>credit_amount</th>\n",
              "      <th>installment_commitment</th>\n",
              "      <th>residence_since</th>\n",
              "      <th>age</th>\n",
              "      <th>existing_credits</th>\n",
              "      <th>num_dependents</th>\n",
              "    </tr>\n",
              "  </thead>\n",
              "  <tbody>\n",
              "    <tr>\n",
              "      <th>count</th>\n",
              "      <td>1000.000000</td>\n",
              "      <td>1000.000000</td>\n",
              "      <td>1000.000000</td>\n",
              "      <td>1000.000000</td>\n",
              "      <td>1000.000000</td>\n",
              "      <td>1000.000000</td>\n",
              "      <td>1000.000000</td>\n",
              "    </tr>\n",
              "    <tr>\n",
              "      <th>mean</th>\n",
              "      <td>20.903000</td>\n",
              "      <td>3271.258000</td>\n",
              "      <td>2.973000</td>\n",
              "      <td>2.845000</td>\n",
              "      <td>35.546000</td>\n",
              "      <td>1.407000</td>\n",
              "      <td>1.155000</td>\n",
              "    </tr>\n",
              "    <tr>\n",
              "      <th>std</th>\n",
              "      <td>12.058814</td>\n",
              "      <td>2822.736876</td>\n",
              "      <td>1.118715</td>\n",
              "      <td>1.103718</td>\n",
              "      <td>11.375469</td>\n",
              "      <td>0.577654</td>\n",
              "      <td>0.362086</td>\n",
              "    </tr>\n",
              "    <tr>\n",
              "      <th>min</th>\n",
              "      <td>4.000000</td>\n",
              "      <td>250.000000</td>\n",
              "      <td>1.000000</td>\n",
              "      <td>1.000000</td>\n",
              "      <td>19.000000</td>\n",
              "      <td>1.000000</td>\n",
              "      <td>1.000000</td>\n",
              "    </tr>\n",
              "    <tr>\n",
              "      <th>25%</th>\n",
              "      <td>12.000000</td>\n",
              "      <td>1365.500000</td>\n",
              "      <td>2.000000</td>\n",
              "      <td>2.000000</td>\n",
              "      <td>27.000000</td>\n",
              "      <td>1.000000</td>\n",
              "      <td>1.000000</td>\n",
              "    </tr>\n",
              "    <tr>\n",
              "      <th>50%</th>\n",
              "      <td>18.000000</td>\n",
              "      <td>2319.500000</td>\n",
              "      <td>3.000000</td>\n",
              "      <td>3.000000</td>\n",
              "      <td>33.000000</td>\n",
              "      <td>1.000000</td>\n",
              "      <td>1.000000</td>\n",
              "    </tr>\n",
              "    <tr>\n",
              "      <th>75%</th>\n",
              "      <td>24.000000</td>\n",
              "      <td>3972.250000</td>\n",
              "      <td>4.000000</td>\n",
              "      <td>4.000000</td>\n",
              "      <td>42.000000</td>\n",
              "      <td>2.000000</td>\n",
              "      <td>1.000000</td>\n",
              "    </tr>\n",
              "    <tr>\n",
              "      <th>max</th>\n",
              "      <td>72.000000</td>\n",
              "      <td>18424.000000</td>\n",
              "      <td>4.000000</td>\n",
              "      <td>4.000000</td>\n",
              "      <td>75.000000</td>\n",
              "      <td>4.000000</td>\n",
              "      <td>2.000000</td>\n",
              "    </tr>\n",
              "  </tbody>\n",
              "</table>\n",
              "</div>\n",
              "      <button class=\"colab-df-convert\" onclick=\"convertToInteractive('df-46ab88bd-0aaf-4d7e-b48a-aaa5b20e1c68')\"\n",
              "              title=\"Convert this dataframe to an interactive table.\"\n",
              "              style=\"display:none;\">\n",
              "        \n",
              "  <svg xmlns=\"http://www.w3.org/2000/svg\" height=\"24px\"viewBox=\"0 0 24 24\"\n",
              "       width=\"24px\">\n",
              "    <path d=\"M0 0h24v24H0V0z\" fill=\"none\"/>\n",
              "    <path d=\"M18.56 5.44l.94 2.06.94-2.06 2.06-.94-2.06-.94-.94-2.06-.94 2.06-2.06.94zm-11 1L8.5 8.5l.94-2.06 2.06-.94-2.06-.94L8.5 2.5l-.94 2.06-2.06.94zm10 10l.94 2.06.94-2.06 2.06-.94-2.06-.94-.94-2.06-.94 2.06-2.06.94z\"/><path d=\"M17.41 7.96l-1.37-1.37c-.4-.4-.92-.59-1.43-.59-.52 0-1.04.2-1.43.59L10.3 9.45l-7.72 7.72c-.78.78-.78 2.05 0 2.83L4 21.41c.39.39.9.59 1.41.59.51 0 1.02-.2 1.41-.59l7.78-7.78 2.81-2.81c.8-.78.8-2.07 0-2.86zM5.41 20L4 18.59l7.72-7.72 1.47 1.35L5.41 20z\"/>\n",
              "  </svg>\n",
              "      </button>\n",
              "      \n",
              "  <style>\n",
              "    .colab-df-container {\n",
              "      display:flex;\n",
              "      flex-wrap:wrap;\n",
              "      gap: 12px;\n",
              "    }\n",
              "\n",
              "    .colab-df-convert {\n",
              "      background-color: #E8F0FE;\n",
              "      border: none;\n",
              "      border-radius: 50%;\n",
              "      cursor: pointer;\n",
              "      display: none;\n",
              "      fill: #1967D2;\n",
              "      height: 32px;\n",
              "      padding: 0 0 0 0;\n",
              "      width: 32px;\n",
              "    }\n",
              "\n",
              "    .colab-df-convert:hover {\n",
              "      background-color: #E2EBFA;\n",
              "      box-shadow: 0px 1px 2px rgba(60, 64, 67, 0.3), 0px 1px 3px 1px rgba(60, 64, 67, 0.15);\n",
              "      fill: #174EA6;\n",
              "    }\n",
              "\n",
              "    [theme=dark] .colab-df-convert {\n",
              "      background-color: #3B4455;\n",
              "      fill: #D2E3FC;\n",
              "    }\n",
              "\n",
              "    [theme=dark] .colab-df-convert:hover {\n",
              "      background-color: #434B5C;\n",
              "      box-shadow: 0px 1px 3px 1px rgba(0, 0, 0, 0.15);\n",
              "      filter: drop-shadow(0px 1px 2px rgba(0, 0, 0, 0.3));\n",
              "      fill: #FFFFFF;\n",
              "    }\n",
              "  </style>\n",
              "\n",
              "      <script>\n",
              "        const buttonEl =\n",
              "          document.querySelector('#df-46ab88bd-0aaf-4d7e-b48a-aaa5b20e1c68 button.colab-df-convert');\n",
              "        buttonEl.style.display =\n",
              "          google.colab.kernel.accessAllowed ? 'block' : 'none';\n",
              "\n",
              "        async function convertToInteractive(key) {\n",
              "          const element = document.querySelector('#df-46ab88bd-0aaf-4d7e-b48a-aaa5b20e1c68');\n",
              "          const dataTable =\n",
              "            await google.colab.kernel.invokeFunction('convertToInteractive',\n",
              "                                                     [key], {});\n",
              "          if (!dataTable) return;\n",
              "\n",
              "          const docLinkHtml = 'Like what you see? Visit the ' +\n",
              "            '<a target=\"_blank\" href=https://colab.research.google.com/notebooks/data_table.ipynb>data table notebook</a>'\n",
              "            + ' to learn more about interactive tables.';\n",
              "          element.innerHTML = '';\n",
              "          dataTable['output_type'] = 'display_data';\n",
              "          await google.colab.output.renderOutput(dataTable, element);\n",
              "          const docLink = document.createElement('div');\n",
              "          docLink.innerHTML = docLinkHtml;\n",
              "          element.appendChild(docLink);\n",
              "        }\n",
              "      </script>\n",
              "    </div>\n",
              "  </div>\n",
              "  "
            ],
            "text/plain": [
              "          duration  credit_amount  installment_commitment  residence_since  \\\n",
              "count  1000.000000    1000.000000             1000.000000      1000.000000   \n",
              "mean     20.903000    3271.258000                2.973000         2.845000   \n",
              "std      12.058814    2822.736876                1.118715         1.103718   \n",
              "min       4.000000     250.000000                1.000000         1.000000   \n",
              "25%      12.000000    1365.500000                2.000000         2.000000   \n",
              "50%      18.000000    2319.500000                3.000000         3.000000   \n",
              "75%      24.000000    3972.250000                4.000000         4.000000   \n",
              "max      72.000000   18424.000000                4.000000         4.000000   \n",
              "\n",
              "               age  existing_credits  num_dependents  \n",
              "count  1000.000000       1000.000000     1000.000000  \n",
              "mean     35.546000          1.407000        1.155000  \n",
              "std      11.375469          0.577654        0.362086  \n",
              "min      19.000000          1.000000        1.000000  \n",
              "25%      27.000000          1.000000        1.000000  \n",
              "50%      33.000000          1.000000        1.000000  \n",
              "75%      42.000000          2.000000        1.000000  \n",
              "max      75.000000          4.000000        2.000000  "
            ]
          },
          "metadata": {},
          "execution_count": 13
        }
      ]
    },
    {
      "cell_type": "markdown",
      "source": [
        "## ข้อ 2\n",
        " Visualize การกระจายตัวของข้อมูลทีเป็นตัวเลขต่อเนือง (continuous features)และการกระจายตัวของข้อมูลทีเป็น target"
      ],
      "metadata": {
        "id": "iK1ijwgFKDDq"
      }
    },
    {
      "cell_type": "code",
      "source": [
        "#plot การกระจายตัวของข้อมูลทีเป็นตัวเลขต่อเนือง (continuous features)\n",
        "plt.figure(figsize=(15, 50))\n",
        "\n",
        "# plotting boxplot and histogram for duration\n",
        "ax1 = plt.subplot(14, 1, 1)\n",
        "ax1.boxplot(credit_df['duration'], vert=False)\n",
        "ax1.set_yticklabels(['duration'])\n",
        "\n",
        "ax2 = plt.subplot(14,1,2)\n",
        "ax2.hist(credit_df['duration'], bins=20)\n",
        "ax2.set_xlabel('Duration')\n",
        "\n",
        "# plotting box plot and histogram for credit card amount\n",
        "ax3 = plt.subplot(14, 1, 3)\n",
        "ax3.boxplot(credit_df['credit_amount'], vert=False)\n",
        "ax3.set_yticklabels(['Credit card amount'])\n",
        "\n",
        "ax4 = plt.subplot(14, 1, 4)\n",
        "ax4.hist(credit_df['credit_amount'], bins=20)\n",
        "ax4.set_xlabel('Credit card amount')\n",
        "\n",
        "# plotting box plot and histogram for installment_commitment\n",
        "ax5 = plt.subplot(14, 1, 5)\n",
        "ax5.boxplot(credit_df['installment_commitment'], vert=False)\n",
        "ax5.set_yticklabels(['Installment commitment'])\n",
        "\n",
        "ax6 = plt.subplot(14,1,6)\n",
        "ax6.hist(credit_df['installment_commitment'], bins=5)\n",
        "ax6.set_xlabel('Installment commitment')\n",
        "\n",
        "# plotting box plot and histogram for residence_since\n",
        "ax7 = plt.subplot(14, 1, 7)\n",
        "ax7.boxplot(credit_df['residence_since'], vert=False)\n",
        "ax7.set_yticklabels(['Residence since(years)'])\n",
        "\n",
        "ax8 = plt.subplot(14, 1, 8)\n",
        "ax8.hist(credit_df['residence_since'], bins=5)\n",
        "ax8.set_xlabel('Residence since(years)')\n",
        "\n",
        "# plotting box plot and histogram for age\n",
        "ax9 = plt.subplot(14, 1, 9)\n",
        "ax9.boxplot(credit_df['age'], vert=False)\n",
        "ax9.set_yticklabels(['Age'])\n",
        "\n",
        "ax10 = plt.subplot(14, 1, 10)\n",
        "ax10.hist(credit_df['age'], bins=5)\n",
        "ax10.set_xlabel('Age')\n",
        "\n",
        "# plotting box plot and histogram for existing credits\n",
        "ax11 = plt.subplot(14, 1, 11)\n",
        "ax11.boxplot(credit_df['existing_credits'], vert=False)\n",
        "ax11.set_yticklabels(['Existing credits'])\n",
        "\n",
        "ax12 = plt.subplot(14, 1, 12)\n",
        "ax12.hist(credit_df['existing_credits'], bins=5)\n",
        "ax12.set_xlabel('Existing credits')\n",
        "\n",
        "# plotting box plot and histogram for num_dependents\n",
        "ax13 = plt.subplot(14, 1, 13)\n",
        "ax13.boxplot(credit_df['num_dependents'], vert=False)\n",
        "ax13.set_yticklabels(['No. of dependents'])\n",
        "\n",
        "ax14 = plt.subplot(14, 1, 14)\n",
        "ax14.hist(credit_df['num_dependents'], bins=5)\n",
        "ax14.set_xlabel('No. of dependents')\n",
        "\n",
        "plt.show()"
      ],
      "metadata": {
        "colab": {
          "base_uri": "https://localhost:8080/",
          "height": 1000
        },
        "id": "NOx-Qo7i27lM",
        "outputId": "2a5dfdee-f915-4b57-975c-f884dfa62971"
      },
      "execution_count": 14,
      "outputs": [
        {
          "output_type": "display_data",
          "data": {
            "image/png": "[encoded data removed]",
            "text/plain": [
              "<Figure size 1080x3600 with 14 Axes>"
            ]
          },
          "metadata": {
            "needs_background": "light"
          }
        }
      ]
    },
    {
      "cell_type": "code",
      "source": [
        "# การกระจายตัวของข้อมูลทีเป็น target\n",
        "class_ = credit_df['class']\n",
        "num_good = class_[class_ == 'good']\n",
        "num_bad = class_[class_ == 'bad']\n",
        "labels = ['Good', 'Bad']\n",
        "y_pos = np.arange(2)\n",
        "x_values = [len(num_good), len(num_bad)]\n",
        "plt.figure(figsize=(10, 10))\n",
        "plt.bar(y_pos, x_values)\n",
        "plt.xticks(np.arange(2), ('Good', 'Bad'))\n",
        "plt.xlabel('Class')\n",
        "\n",
        "plt.show()"
      ],
      "metadata": {
        "colab": {
          "base_uri": "https://localhost:8080/",
          "height": 605
        },
        "id": "e9erRxFJ905p",
        "outputId": "f30f1a62-84fa-4e5b-e432-bff1fb479995"
      },
      "execution_count": 15,
      "outputs": [
        {
          "output_type": "display_data",
          "data": {
            "image/png": "[encoded data removed]",
            "text/plain": [
              "<Figure size 720x720 with 1 Axes>"
            ]
          },
          "metadata": {
            "needs_background": "light"
          }
        }
      ]
    },
    {
      "cell_type": "markdown",
      "source": [
        "## ข้อ 3\n",
        "แปลงข้อมูล categorical variables ให้เป็นตัวเลขโดยให้เลือกใช้ OneHotEncoder จาก\n",
        "category_encoder package."
      ],
      "metadata": {
        "id": "A-FuIETWMXQo"
      }
    },
    {
      "cell_type": "markdown",
      "source": [
        "### categorical variables ได้แก่\n",
        "checking_status, credit_history, purpose, savings_status,\n",
        "employment, personal_status, other_parties, property_magnitude, \n",
        "other_payment_plans, housing, job, own_telephone, foreign_worker\n"
      ],
      "metadata": {
        "id": "e0YLmC5hNUlU"
      }
    },
    {
      "cell_type": "code",
      "source": [
        "credit_dataX, credit_datay = fetch_openml('credit-g', version='active', as_frame=True, return_X_y=True)\n",
        "categorical_features = ['checking_status', 'credit_history', 'employment', \n",
        "                        'foreign_worker', 'housing', 'job', 'other_parties', \n",
        "                        'other_payment_plans', 'own_telephone', 'personal_status',\n",
        "                        'property_magnitude', 'purpose', 'savings_status']\n",
        "\n",
        "numeric_features = [feature for feature in credit_data.feature_names if feature not in categorical_features]\n",
        "\n",
        "enc = OneHotEncoder(handle_unknown='ignore')"
      ],
      "metadata": {
        "id": "-tCvgqQhMweJ"
      },
      "execution_count": 16,
      "outputs": []
    },
    {
      "cell_type": "code",
      "source": [
        "enc_df = pd.DataFrame(enc.fit_transform(credit_dataX[categorical_features]).toarray())"
      ],
      "metadata": {
        "id": "hTFiRjmFN-qa"
      },
      "execution_count": 17,
      "outputs": []
    },
    {
      "cell_type": "code",
      "source": [
        "enc_df"
      ],
      "metadata": {
        "colab": {
          "base_uri": "https://localhost:8080/",
          "height": 0
        },
        "id": "UrAaVKwuSBbe",
        "outputId": "1acb4ac9-49ca-4e51-c069-a7ab6602b0cd"
      },
      "execution_count": 18,
      "outputs": [
        {
          "output_type": "execute_result",
          "data": {
            "text/html": [
              "\n",
              "  <div id=\"df-a71bce18-a4c4-4ba0-929b-b81199148bb1\">\n",
              "    <div class=\"colab-df-container\">\n",
              "      <div>\n",
              "<style scoped>\n",
              "    .dataframe tbody tr th:only-of-type {\n",
              "        vertical-align: middle;\n",
              "    }\n",
              "\n",
              "    .dataframe tbody tr th {\n",
              "        vertical-align: top;\n",
              "    }\n",
              "\n",
              "    .dataframe thead th {\n",
              "        text-align: right;\n",
              "    }\n",
              "</style>\n",
              "<table border=\"1\" class=\"dataframe\">\n",
              "  <thead>\n",
              "    <tr style=\"text-align: right;\">\n",
              "      <th></th>\n",
              "      <th>0</th>\n",
              "      <th>1</th>\n",
              "      <th>2</th>\n",
              "      <th>3</th>\n",
              "      <th>4</th>\n",
              "      <th>5</th>\n",
              "      <th>6</th>\n",
              "      <th>7</th>\n",
              "      <th>8</th>\n",
              "      <th>9</th>\n",
              "      <th>...</th>\n",
              "      <th>44</th>\n",
              "      <th>45</th>\n",
              "      <th>46</th>\n",
              "      <th>47</th>\n",
              "      <th>48</th>\n",
              "      <th>49</th>\n",
              "      <th>50</th>\n",
              "      <th>51</th>\n",
              "      <th>52</th>\n",
              "      <th>53</th>\n",
              "    </tr>\n",
              "  </thead>\n",
              "  <tbody>\n",
              "    <tr>\n",
              "      <th>0</th>\n",
              "      <td>0.0</td>\n",
              "      <td>1.0</td>\n",
              "      <td>0.0</td>\n",
              "      <td>0.0</td>\n",
              "      <td>0.0</td>\n",
              "      <td>1.0</td>\n",
              "      <td>0.0</td>\n",
              "      <td>0.0</td>\n",
              "      <td>0.0</td>\n",
              "      <td>0.0</td>\n",
              "      <td>...</td>\n",
              "      <td>0.0</td>\n",
              "      <td>1.0</td>\n",
              "      <td>0.0</td>\n",
              "      <td>0.0</td>\n",
              "      <td>0.0</td>\n",
              "      <td>0.0</td>\n",
              "      <td>0.0</td>\n",
              "      <td>0.0</td>\n",
              "      <td>0.0</td>\n",
              "      <td>1.0</td>\n",
              "    </tr>\n",
              "    <tr>\n",
              "      <th>1</th>\n",
              "      <td>1.0</td>\n",
              "      <td>0.0</td>\n",
              "      <td>0.0</td>\n",
              "      <td>0.0</td>\n",
              "      <td>0.0</td>\n",
              "      <td>0.0</td>\n",
              "      <td>0.0</td>\n",
              "      <td>1.0</td>\n",
              "      <td>0.0</td>\n",
              "      <td>1.0</td>\n",
              "      <td>...</td>\n",
              "      <td>0.0</td>\n",
              "      <td>1.0</td>\n",
              "      <td>0.0</td>\n",
              "      <td>0.0</td>\n",
              "      <td>0.0</td>\n",
              "      <td>0.0</td>\n",
              "      <td>0.0</td>\n",
              "      <td>1.0</td>\n",
              "      <td>0.0</td>\n",
              "      <td>0.0</td>\n",
              "    </tr>\n",
              "    <tr>\n",
              "      <th>2</th>\n",
              "      <td>0.0</td>\n",
              "      <td>0.0</td>\n",
              "      <td>0.0</td>\n",
              "      <td>1.0</td>\n",
              "      <td>0.0</td>\n",
              "      <td>1.0</td>\n",
              "      <td>0.0</td>\n",
              "      <td>0.0</td>\n",
              "      <td>0.0</td>\n",
              "      <td>0.0</td>\n",
              "      <td>...</td>\n",
              "      <td>0.0</td>\n",
              "      <td>0.0</td>\n",
              "      <td>0.0</td>\n",
              "      <td>0.0</td>\n",
              "      <td>0.0</td>\n",
              "      <td>0.0</td>\n",
              "      <td>0.0</td>\n",
              "      <td>1.0</td>\n",
              "      <td>0.0</td>\n",
              "      <td>0.0</td>\n",
              "    </tr>\n",
              "    <tr>\n",
              "      <th>3</th>\n",
              "      <td>0.0</td>\n",
              "      <td>1.0</td>\n",
              "      <td>0.0</td>\n",
              "      <td>0.0</td>\n",
              "      <td>0.0</td>\n",
              "      <td>0.0</td>\n",
              "      <td>0.0</td>\n",
              "      <td>1.0</td>\n",
              "      <td>0.0</td>\n",
              "      <td>0.0</td>\n",
              "      <td>...</td>\n",
              "      <td>0.0</td>\n",
              "      <td>0.0</td>\n",
              "      <td>0.0</td>\n",
              "      <td>0.0</td>\n",
              "      <td>0.0</td>\n",
              "      <td>0.0</td>\n",
              "      <td>0.0</td>\n",
              "      <td>1.0</td>\n",
              "      <td>0.0</td>\n",
              "      <td>0.0</td>\n",
              "    </tr>\n",
              "    <tr>\n",
              "      <th>4</th>\n",
              "      <td>0.0</td>\n",
              "      <td>1.0</td>\n",
              "      <td>0.0</td>\n",
              "      <td>0.0</td>\n",
              "      <td>0.0</td>\n",
              "      <td>0.0</td>\n",
              "      <td>1.0</td>\n",
              "      <td>0.0</td>\n",
              "      <td>0.0</td>\n",
              "      <td>1.0</td>\n",
              "      <td>...</td>\n",
              "      <td>0.0</td>\n",
              "      <td>0.0</td>\n",
              "      <td>0.0</td>\n",
              "      <td>0.0</td>\n",
              "      <td>0.0</td>\n",
              "      <td>0.0</td>\n",
              "      <td>0.0</td>\n",
              "      <td>1.0</td>\n",
              "      <td>0.0</td>\n",
              "      <td>0.0</td>\n",
              "    </tr>\n",
              "    <tr>\n",
              "      <th>...</th>\n",
              "      <td>...</td>\n",
              "      <td>...</td>\n",
              "      <td>...</td>\n",
              "      <td>...</td>\n",
              "      <td>...</td>\n",
              "      <td>...</td>\n",
              "      <td>...</td>\n",
              "      <td>...</td>\n",
              "      <td>...</td>\n",
              "      <td>...</td>\n",
              "      <td>...</td>\n",
              "      <td>...</td>\n",
              "      <td>...</td>\n",
              "      <td>...</td>\n",
              "      <td>...</td>\n",
              "      <td>...</td>\n",
              "      <td>...</td>\n",
              "      <td>...</td>\n",
              "      <td>...</td>\n",
              "      <td>...</td>\n",
              "      <td>...</td>\n",
              "    </tr>\n",
              "    <tr>\n",
              "      <th>995</th>\n",
              "      <td>0.0</td>\n",
              "      <td>0.0</td>\n",
              "      <td>0.0</td>\n",
              "      <td>1.0</td>\n",
              "      <td>0.0</td>\n",
              "      <td>0.0</td>\n",
              "      <td>0.0</td>\n",
              "      <td>1.0</td>\n",
              "      <td>0.0</td>\n",
              "      <td>0.0</td>\n",
              "      <td>...</td>\n",
              "      <td>0.0</td>\n",
              "      <td>0.0</td>\n",
              "      <td>0.0</td>\n",
              "      <td>0.0</td>\n",
              "      <td>0.0</td>\n",
              "      <td>0.0</td>\n",
              "      <td>0.0</td>\n",
              "      <td>1.0</td>\n",
              "      <td>0.0</td>\n",
              "      <td>0.0</td>\n",
              "    </tr>\n",
              "    <tr>\n",
              "      <th>996</th>\n",
              "      <td>0.0</td>\n",
              "      <td>1.0</td>\n",
              "      <td>0.0</td>\n",
              "      <td>0.0</td>\n",
              "      <td>0.0</td>\n",
              "      <td>0.0</td>\n",
              "      <td>0.0</td>\n",
              "      <td>1.0</td>\n",
              "      <td>0.0</td>\n",
              "      <td>1.0</td>\n",
              "      <td>...</td>\n",
              "      <td>0.0</td>\n",
              "      <td>0.0</td>\n",
              "      <td>0.0</td>\n",
              "      <td>0.0</td>\n",
              "      <td>1.0</td>\n",
              "      <td>0.0</td>\n",
              "      <td>0.0</td>\n",
              "      <td>1.0</td>\n",
              "      <td>0.0</td>\n",
              "      <td>0.0</td>\n",
              "    </tr>\n",
              "    <tr>\n",
              "      <th>997</th>\n",
              "      <td>0.0</td>\n",
              "      <td>0.0</td>\n",
              "      <td>0.0</td>\n",
              "      <td>1.0</td>\n",
              "      <td>0.0</td>\n",
              "      <td>0.0</td>\n",
              "      <td>0.0</td>\n",
              "      <td>1.0</td>\n",
              "      <td>0.0</td>\n",
              "      <td>0.0</td>\n",
              "      <td>...</td>\n",
              "      <td>0.0</td>\n",
              "      <td>1.0</td>\n",
              "      <td>0.0</td>\n",
              "      <td>0.0</td>\n",
              "      <td>0.0</td>\n",
              "      <td>0.0</td>\n",
              "      <td>0.0</td>\n",
              "      <td>1.0</td>\n",
              "      <td>0.0</td>\n",
              "      <td>0.0</td>\n",
              "    </tr>\n",
              "    <tr>\n",
              "      <th>998</th>\n",
              "      <td>0.0</td>\n",
              "      <td>1.0</td>\n",
              "      <td>0.0</td>\n",
              "      <td>0.0</td>\n",
              "      <td>0.0</td>\n",
              "      <td>0.0</td>\n",
              "      <td>0.0</td>\n",
              "      <td>1.0</td>\n",
              "      <td>0.0</td>\n",
              "      <td>1.0</td>\n",
              "      <td>...</td>\n",
              "      <td>0.0</td>\n",
              "      <td>1.0</td>\n",
              "      <td>0.0</td>\n",
              "      <td>0.0</td>\n",
              "      <td>0.0</td>\n",
              "      <td>0.0</td>\n",
              "      <td>0.0</td>\n",
              "      <td>1.0</td>\n",
              "      <td>0.0</td>\n",
              "      <td>0.0</td>\n",
              "    </tr>\n",
              "    <tr>\n",
              "      <th>999</th>\n",
              "      <td>1.0</td>\n",
              "      <td>0.0</td>\n",
              "      <td>0.0</td>\n",
              "      <td>0.0</td>\n",
              "      <td>0.0</td>\n",
              "      <td>1.0</td>\n",
              "      <td>0.0</td>\n",
              "      <td>0.0</td>\n",
              "      <td>0.0</td>\n",
              "      <td>0.0</td>\n",
              "      <td>...</td>\n",
              "      <td>0.0</td>\n",
              "      <td>0.0</td>\n",
              "      <td>0.0</td>\n",
              "      <td>0.0</td>\n",
              "      <td>1.0</td>\n",
              "      <td>1.0</td>\n",
              "      <td>0.0</td>\n",
              "      <td>0.0</td>\n",
              "      <td>0.0</td>\n",
              "      <td>0.0</td>\n",
              "    </tr>\n",
              "  </tbody>\n",
              "</table>\n",
              "<p>1000 rows × 54 columns</p>\n",
              "</div>\n",
              "      <button class=\"colab-df-convert\" onclick=\"convertToInteractive('df-a71bce18-a4c4-4ba0-929b-b81199148bb1')\"\n",
              "              title=\"Convert this dataframe to an interactive table.\"\n",
              "              style=\"display:none;\">\n",
              "        \n",
              "  <svg xmlns=\"http://www.w3.org/2000/svg\" height=\"24px\"viewBox=\"0 0 24 24\"\n",
              "       width=\"24px\">\n",
              "    <path d=\"M0 0h24v24H0V0z\" fill=\"none\"/>\n",
              "    <path d=\"M18.56 5.44l.94 2.06.94-2.06 2.06-.94-2.06-.94-.94-2.06-.94 2.06-2.06.94zm-11 1L8.5 8.5l.94-2.06 2.06-.94-2.06-.94L8.5 2.5l-.94 2.06-2.06.94zm10 10l.94 2.06.94-2.06 2.06-.94-2.06-.94-.94-2.06-.94 2.06-2.06.94z\"/><path d=\"M17.41 7.96l-1.37-1.37c-.4-.4-.92-.59-1.43-.59-.52 0-1.04.2-1.43.59L10.3 9.45l-7.72 7.72c-.78.78-.78 2.05 0 2.83L4 21.41c.39.39.9.59 1.41.59.51 0 1.02-.2 1.41-.59l7.78-7.78 2.81-2.81c.8-.78.8-2.07 0-2.86zM5.41 20L4 18.59l7.72-7.72 1.47 1.35L5.41 20z\"/>\n",
              "  </svg>\n",
              "      </button>\n",
              "      \n",
              "  <style>\n",
              "    .colab-df-container {\n",
              "      display:flex;\n",
              "      flex-wrap:wrap;\n",
              "      gap: 12px;\n",
              "    }\n",
              "\n",
              "    .colab-df-convert {\n",
              "      background-color: #E8F0FE;\n",
              "      border: none;\n",
              "      border-radius: 50%;\n",
              "      cursor: pointer;\n",
              "      display: none;\n",
              "      fill: #1967D2;\n",
              "      height: 32px;\n",
              "      padding: 0 0 0 0;\n",
              "      width: 32px;\n",
              "    }\n",
              "\n",
              "    .colab-df-convert:hover {\n",
              "      background-color: #E2EBFA;\n",
              "      box-shadow: 0px 1px 2px rgba(60, 64, 67, 0.3), 0px 1px 3px 1px rgba(60, 64, 67, 0.15);\n",
              "      fill: #174EA6;\n",
              "    }\n",
              "\n",
              "    [theme=dark] .colab-df-convert {\n",
              "      background-color: #3B4455;\n",
              "      fill: #D2E3FC;\n",
              "    }\n",
              "\n",
              "    [theme=dark] .colab-df-convert:hover {\n",
              "      background-color: #434B5C;\n",
              "      box-shadow: 0px 1px 3px 1px rgba(0, 0, 0, 0.15);\n",
              "      filter: drop-shadow(0px 1px 2px rgba(0, 0, 0, 0.3));\n",
              "      fill: #FFFFFF;\n",
              "    }\n",
              "  </style>\n",
              "\n",
              "      <script>\n",
              "        const buttonEl =\n",
              "          document.querySelector('#df-a71bce18-a4c4-4ba0-929b-b81199148bb1 button.colab-df-convert');\n",
              "        buttonEl.style.display =\n",
              "          google.colab.kernel.accessAllowed ? 'block' : 'none';\n",
              "\n",
              "        async function convertToInteractive(key) {\n",
              "          const element = document.querySelector('#df-a71bce18-a4c4-4ba0-929b-b81199148bb1');\n",
              "          const dataTable =\n",
              "            await google.colab.kernel.invokeFunction('convertToInteractive',\n",
              "                                                     [key], {});\n",
              "          if (!dataTable) return;\n",
              "\n",
              "          const docLinkHtml = 'Like what you see? Visit the ' +\n",
              "            '<a target=\"_blank\" href=https://colab.research.google.com/notebooks/data_table.ipynb>data table notebook</a>'\n",
              "            + ' to learn more about interactive tables.';\n",
              "          element.innerHTML = '';\n",
              "          dataTable['output_type'] = 'display_data';\n",
              "          await google.colab.output.renderOutput(dataTable, element);\n",
              "          const docLink = document.createElement('div');\n",
              "          docLink.innerHTML = docLinkHtml;\n",
              "          element.appendChild(docLink);\n",
              "        }\n",
              "      </script>\n",
              "    </div>\n",
              "  </div>\n",
              "  "
            ],
            "text/plain": [
              "      0    1    2    3    4    5    6    7    8    9   ...   44   45   46  \\\n",
              "0    0.0  1.0  0.0  0.0  0.0  1.0  0.0  0.0  0.0  0.0  ...  0.0  1.0  0.0   \n",
              "1    1.0  0.0  0.0  0.0  0.0  0.0  0.0  1.0  0.0  1.0  ...  0.0  1.0  0.0   \n",
              "2    0.0  0.0  0.0  1.0  0.0  1.0  0.0  0.0  0.0  0.0  ...  0.0  0.0  0.0   \n",
              "3    0.0  1.0  0.0  0.0  0.0  0.0  0.0  1.0  0.0  0.0  ...  0.0  0.0  0.0   \n",
              "4    0.0  1.0  0.0  0.0  0.0  0.0  1.0  0.0  0.0  1.0  ...  0.0  0.0  0.0   \n",
              "..   ...  ...  ...  ...  ...  ...  ...  ...  ...  ...  ...  ...  ...  ...   \n",
              "995  0.0  0.0  0.0  1.0  0.0  0.0  0.0  1.0  0.0  0.0  ...  0.0  0.0  0.0   \n",
              "996  0.0  1.0  0.0  0.0  0.0  0.0  0.0  1.0  0.0  1.0  ...  0.0  0.0  0.0   \n",
              "997  0.0  0.0  0.0  1.0  0.0  0.0  0.0  1.0  0.0  0.0  ...  0.0  1.0  0.0   \n",
              "998  0.0  1.0  0.0  0.0  0.0  0.0  0.0  1.0  0.0  1.0  ...  0.0  1.0  0.0   \n",
              "999  1.0  0.0  0.0  0.0  0.0  1.0  0.0  0.0  0.0  0.0  ...  0.0  0.0  0.0   \n",
              "\n",
              "      47   48   49   50   51   52   53  \n",
              "0    0.0  0.0  0.0  0.0  0.0  0.0  1.0  \n",
              "1    0.0  0.0  0.0  0.0  1.0  0.0  0.0  \n",
              "2    0.0  0.0  0.0  0.0  1.0  0.0  0.0  \n",
              "3    0.0  0.0  0.0  0.0  1.0  0.0  0.0  \n",
              "4    0.0  0.0  0.0  0.0  1.0  0.0  0.0  \n",
              "..   ...  ...  ...  ...  ...  ...  ...  \n",
              "995  0.0  0.0  0.0  0.0  1.0  0.0  0.0  \n",
              "996  0.0  1.0  0.0  0.0  1.0  0.0  0.0  \n",
              "997  0.0  0.0  0.0  0.0  1.0  0.0  0.0  \n",
              "998  0.0  0.0  0.0  0.0  1.0  0.0  0.0  \n",
              "999  0.0  1.0  1.0  0.0  0.0  0.0  0.0  \n",
              "\n",
              "[1000 rows x 54 columns]"
            ]
          },
          "metadata": {},
          "execution_count": 18
        }
      ]
    },
    {
      "cell_type": "markdown",
      "source": [
        "## ข้อ 4\n",
        "แบ่งข้อมูลทีแปลงได้ออกเป็น training และtesting set (อย่าเพิงใช้ข้อมูลจาก test set เก็บไว้ใช้ในข้อ7)"
      ],
      "metadata": {
        "id": "ROFM6NeNv58_"
      }
    },
    {
      "cell_type": "code",
      "source": [
        "# Perorming Label encoding on the target\n",
        "le = LabelEncoder()\n",
        "y = le.fit_transform(credit_datay)"
      ],
      "metadata": {
        "id": "WAeKVX1LpnyP"
      },
      "execution_count": 19,
      "outputs": []
    },
    {
      "cell_type": "code",
      "source": [
        "# creating the training test split\n",
        "X_train, X_test, y_train, y_test = train_test_split(credit_dataX, y, random_state=45)"
      ],
      "metadata": {
        "id": "A_qE2IpFpsJb"
      },
      "execution_count": 20,
      "outputs": []
    },
    {
      "cell_type": "code",
      "source": [
        "# การตรวจสอบแบบไขว้ k-fold เพื่อสลับเวียนข้อมูลที่ใช้ในการฝึกฝนและตรวจสอบ\n",
        "skf = StratifiedKFold(n_splits=5, shuffle=True)"
      ],
      "metadata": {
        "id": "heft3anOjlYZ"
      },
      "execution_count": 21,
      "outputs": []
    },
    {
      "cell_type": "markdown",
      "source": [
        "## ข้อ 5\n",
        "สร้างโมเดลด้วย Logistic Regression, Linear support vector machines และk-nearest neighbors \n",
        "และประเมินผลด้วย training dataโดยเปรียบเทียบผลลัพธ์ทีได้ของทั้งสามโมเดล"
      ],
      "metadata": {
        "id": "RrW2ZMywywuq"
      }
    },
    {
      "cell_type": "code",
      "source": [
        "# Logistic Regression Model\n",
        "preprocess_lr = make_column_transformer(\n",
        "    (OneHotEncoder(), categorical_features))\n",
        "model_lr = make_pipeline(preprocess_lr, LogisticRegression()).fit(X_train, y_train)\n",
        "scores_lr = cross_val_score(model_lr, X_train, y_train, cv=skf, scoring='accuracy')\n",
        "print('Credit-g dataset with Logistic Regression Model')\n",
        "print('Accuracy of Logistic regression classifier on training set: {:.3f}'\n",
        "     .format(np.mean(scores_lr)))"
      ],
      "metadata": {
        "colab": {
          "base_uri": "https://localhost:8080/"
        },
        "id": "Tt0WK5gjTGBB",
        "outputId": "337ad8e5-757d-4d1b-9835-55cd836554ca"
      },
      "execution_count": 22,
      "outputs": [
        {
          "output_type": "stream",
          "name": "stdout",
          "text": [
            "Credit-g dataset with Logistic Regression Model\n",
            "Accuracy of Logistic regression classifier on training set: 0.724\n"
          ]
        }
      ]
    },
    {
      "cell_type": "code",
      "source": [
        "preprocess_svc = make_column_transformer(\n",
        "    (OneHotEncoder(), categorical_features))\n",
        "model_svc = make_pipeline(preprocess_svc, LinearSVC()).fit(X_train, y_train)\n",
        "scores_svc = cross_val_score(model_svc, X_train, y_train, cv=skf, scoring='accuracy')\n",
        "print('Credit-g dataset with Linear support vector machines')\n",
        "print('Accuracy of LinearSVC on training set: {:.3f}'\n",
        "     .format(np.mean(scores_svc)))"
      ],
      "metadata": {
        "colab": {
          "base_uri": "https://localhost:8080/"
        },
        "id": "W5hqYv5nT_XD",
        "outputId": "6c1a829a-9c5e-4bec-ebc8-c2108e8fdcde"
      },
      "execution_count": 23,
      "outputs": [
        {
          "output_type": "stream",
          "name": "stdout",
          "text": [
            "Credit-g dataset with Linear support vector machines\n",
            "Accuracy of LinearSVC on training set: 0.737\n"
          ]
        }
      ]
    },
    {
      "cell_type": "code",
      "source": [
        "preprocess_knn = make_column_transformer(\n",
        "    (OneHotEncoder(), categorical_features))\n",
        "model_knn = make_pipeline(preprocess_knn, KNeighborsClassifier()).fit(X_train, y_train)\n",
        "scores_knn = cross_val_score(model_knn, X_train, y_train, cv=skf, scoring='accuracy')\n",
        "print('Credit-g dataset with k-nearest neighbors')\n",
        "print('Accuracy of k-nearest neighbors on training set: {:.3f}'\n",
        "     .format(np.mean(scores_knn)))"
      ],
      "metadata": {
        "colab": {
          "base_uri": "https://localhost:8080/"
        },
        "id": "bUrJouz-UceS",
        "outputId": "3c5590ca-ccd3-4305-95c8-a7062db2e483"
      },
      "execution_count": 24,
      "outputs": [
        {
          "output_type": "stream",
          "name": "stdout",
          "text": [
            "Credit-g dataset with k-nearest neighbors\n",
            "Accuracy of k-nearest neighbors on training set: 0.711\n"
          ]
        }
      ]
    },
    {
      "cell_type": "markdown",
      "source": [
        "## ข้อ 6\n",
        "แปลง scale ข้อมูลที่เป็น continuous features ด้วย StandardScaler และเปรียบเทียบผลลัพธ์ที่ได้ของ\n",
        "ทั้งสามโมเดล"
      ],
      "metadata": {
        "id": "516iQzsJ44GR"
      }
    },
    {
      "cell_type": "code",
      "source": [
        "scaler = StandardScaler()"
      ],
      "metadata": {
        "id": "0sYrgDX85Es8"
      },
      "execution_count": 25,
      "outputs": []
    },
    {
      "cell_type": "code",
      "source": [
        "# Logistic Regression Model with scaled data\n",
        "preprocess_lrs = make_column_transformer(\n",
        "    (StandardScaler(), numeric_features),\n",
        "    (OneHotEncoder(), categorical_features))\n",
        "model_lrs = make_pipeline(preprocess_lrs, LogisticRegression(max_iter=5000)).fit(X_train, y_train)\n",
        "scores_lrs = cross_val_score(model_lrs, X_train, y_train, cv=skf, scoring='accuracy')\n",
        "# scores_lrs_test = cross_val_score(model_lrs, X_test, y_test, cv=skf, scoring='accuracy')\n",
        "print('Credit-g dataset with Logistic Regression and data scaled Model')\n",
        "print('Accuracy of Logistic regression classifier on training set: {:.3f}'\n",
        "     .format(np.mean(scores_lrs)))\n",
        "# print('Accuracy of Logistic regression classifier on test set: {:.3f}'\n",
        "#      .format(np.mean(scores_lrs_test)))"
      ],
      "metadata": {
        "colab": {
          "base_uri": "https://localhost:8080/"
        },
        "id": "ugCPZcTl6fJn",
        "outputId": "36d70a30-7019-4d3b-8c55-f6fd850e3308"
      },
      "execution_count": 26,
      "outputs": [
        {
          "output_type": "stream",
          "name": "stdout",
          "text": [
            "Credit-g dataset with Logistic Regression and data scaled Model\n",
            "Accuracy of Logistic regression classifier on training set: 0.745\n"
          ]
        }
      ]
    },
    {
      "cell_type": "code",
      "source": [
        "# Linear support vector machines and data scaled Model\n",
        "preprocess_svc = make_column_transformer(\n",
        "    (StandardScaler(), numeric_features),\n",
        "    (OneHotEncoder(), categorical_features))\n",
        "model_svcs = make_pipeline(preprocess_svc, LinearSVC(max_iter=5000)).fit(X_train, y_train)\n",
        "scores_svcs = cross_val_score(model_svcs, X_train, y_train, cv=skf, scoring='accuracy')\n",
        "print('Credit-g dataset with Linear support vector machines and data scaled Model')\n",
        "print('Accuracy of Linear support vector machines on training set: {:.3f}'\n",
        "     .format(np.mean(scores_svcs)))"
      ],
      "metadata": {
        "colab": {
          "base_uri": "https://localhost:8080/"
        },
        "id": "BWkiVK28Vrdj",
        "outputId": "65f8f807-eb39-4992-895c-e70e906350a9"
      },
      "execution_count": 27,
      "outputs": [
        {
          "output_type": "stream",
          "name": "stdout",
          "text": [
            "Credit-g dataset with Linear support vector machines and data scaled Model\n",
            "Accuracy of Linear support vector machines on training set: 0.745\n"
          ]
        }
      ]
    },
    {
      "cell_type": "code",
      "source": [
        "# k-nearest neighbors Model with scaled data\n",
        "preprocess_knn = make_column_transformer(\n",
        "    (StandardScaler(), numeric_features),\n",
        "    (OneHotEncoder(), categorical_features))\n",
        "model_knns = make_pipeline(preprocess_knn, KNeighborsClassifier()).fit(X_train, y_train)\n",
        "scores_knns = cross_val_score(model_knns, X_train, y_train, cv=skf, scoring='accuracy')\n",
        "print('Credit-g dataset with k-nearest neighbors and data scaled Model')\n",
        "print('Accuracy of k-nearest neighbors on training set: {:.3f}'\n",
        "     .format(np.mean(scores_knns)))"
      ],
      "metadata": {
        "colab": {
          "base_uri": "https://localhost:8080/"
        },
        "id": "BgxbFaVHgluO",
        "outputId": "c90800a2-9467-4a1b-e6ef-2dde8742eb56"
      },
      "execution_count": 28,
      "outputs": [
        {
          "output_type": "stream",
          "name": "stdout",
          "text": [
            "Credit-g dataset with k-nearest neighbors and data scaled Model\n",
            "Accuracy of k-nearest neighbors on training set: 0.725\n"
          ]
        }
      ]
    },
    {
      "cell_type": "markdown",
      "source": [
        "สรุป ข้อ 6 \n",
        "\n",
        "จากผลลัพธ์ แสดงได้ว่า ค่า accuracy นั้นดีขึ้น เมื่อเราใช้ การ scaling สำหรับ Numeric Features(duration, credit_amount,\tinstallment_commitment,\tresidence_since,\tage,\texisting_credits,\tnum_dependents)\n",
        "\n",
        "    โดย เมื่อดูจาก Logistic Regression นั้น ค่า accuracy ดีขึ้น จาก 0.724 เป็น 0.745\n",
        "\n",
        "    และ เมื่อดูจาก Linear support vector machine แล้วนั้น ค่า accuracy ดีขึ้นจาก 0.737 เป็น 0.745"
      ],
      "metadata": {
        "id": "UVLpcxtzd0S5"
      }
    },
    {
      "cell_type": "markdown",
      "source": [
        "## ข้อ 7\n",
        "ให้ลองปรับค่า parameters ด้วยการใช้GridSearchCV แล้วดูว่าผลลัพธ์ดีขึ้นหรือไม่ ให้ประเมินผลด้วย\n",
        "ข้อมูล test set แสดงประสิทธิภาพของฟังก์ชันด้วยการกราฟเปรียบเทียบของทั้งสามโมเดล\n",
        "\n",
        "https://scikit-learn.org/stable/modules/generated/sklearn.model_selection.GridSearchCV.html\n",
        "\n",
        "Grid Search คืออะไร\n",
        "Grid Search เป็นวิธีที่ง่ายในการหาค่าที่ดีที่สุดของพารามิเตอร์ วิธีคือการกำหนดค่าของแต่ละพารามิเตอร์ที่เราต้องการจะหา แล้วลองรันโมเดลของเรา และเราจะต้องทำแบบนี้จนกว่าจะหมดพารามิเตอร์ที่เราต้องการหา โดยเราต้องเปลี่ยนค่าพารามิเตอร์ไปเรื่อยๆ ข้อเสียของการใช้ Grid Search คือ เราจะใช้ได้กับโมเดลที่เล็ก ถ้าเป็นโมเดลใหญ่จะใช้เวลาในการรันนานมาก"
      ],
      "metadata": {
        "id": "0wOa6bh8iy5t"
      }
    },
    {
      "cell_type": "code",
      "source": [
        "# Logistic Regression Model\n",
        "\n",
        "# Preprocess data\n",
        "preprocess_data = make_column_transformer(\n",
        "    (StandardScaler(), numeric_features),\n",
        "    (OneHotEncoder(), categorical_features))\n",
        "\n",
        "# Create Pipeline for Logistic Regression Model\n",
        "lrs_pipe = make_pipeline(preprocess_data, LogisticRegression(max_iter=5000))\n",
        "\n",
        "# Assign parameter for grid search\n",
        "param_grid_lrs = {\"logisticregression__C\" : np.logspace(-2, 20, 20)}\n",
        "\n",
        "# Fit Model\n",
        "grid_lrs = GridSearchCV(lrs_pipe, param_grid_lrs, cv=skf, return_train_score=True).fit(X_train, y_train)\n"
      ],
      "metadata": {
        "id": "IUOOlcuMjZSD"
      },
      "execution_count": 29,
      "outputs": []
    },
    {
      "cell_type": "code",
      "source": [
        "print(\"best mean cross-validation score: {:.3f}\".format(grid_lrs.best_score_))\n",
        "print(\"best parameters: {}\".format(grid_lrs.best_params_))"
      ],
      "metadata": {
        "colab": {
          "base_uri": "https://localhost:8080/"
        },
        "id": "T5lC9c24h1x2",
        "outputId": "5c008cc8-8f45-46ff-9522-085a0766d63b"
      },
      "execution_count": 30,
      "outputs": [
        {
          "output_type": "stream",
          "name": "stdout",
          "text": [
            "best mean cross-validation score: 0.749\n",
            "best parameters: {'logisticregression__C': 2.06913808111479}\n"
          ]
        }
      ]
    },
    {
      "cell_type": "code",
      "source": [
        "# Logistic Regression Model with C = 2.06913808111479\n",
        "\n",
        "model_lrs_new_c = make_pipeline(preprocess_data, LogisticRegression(C=2.06913808111479, max_iter=5000)).fit(X_train, y_train)\n",
        "scores_lrs = cross_val_score(model_lrs_new_c, X_test, y_test, cv=skf, scoring='accuracy')\n",
        "\n",
        "print('Accuracy of Logistic regression classifier with C=2.06913808111479 on test set: {:.3f}'\n",
        "     .format(np.mean(scores_lrs)))"
      ],
      "metadata": {
        "colab": {
          "base_uri": "https://localhost:8080/"
        },
        "id": "eua1rlzcqcCO",
        "outputId": "353963d7-b887-4954-cb2a-b68b89d05541"
      },
      "execution_count": 50,
      "outputs": [
        {
          "output_type": "stream",
          "name": "stdout",
          "text": [
            "Accuracy of Logistic regression classifier with C=2.06913808111479 on test set: 0.740\n"
          ]
        }
      ]
    },
    {
      "cell_type": "code",
      "source": [
        "# Linear support vector machines\n",
        "\n",
        "# Create Pipeline for Linear support vector machines\n",
        "svc_pipe = make_pipeline(preprocess_data, LinearSVC(max_iter=5000))\n",
        "\n",
        "# Assign parameter for grid search\n",
        "# param_grid = {\"linearsvc__C\" : np.linspace(1, 100)}\n",
        "param_grid_svc = {'linearsvc__C': np.logspace(-5, 10, 20)}\n",
        "\n",
        "# Fit LinearSVC Model\n",
        "grid_svc = GridSearchCV(svc_pipe, param_grid_svc, cv=skf, return_train_score=True).fit(X_train, y_train)"
      ],
      "metadata": {
        "colab": {
          "base_uri": "https://localhost:8080/"
        },
        "id": "xle2MdArl36J",
        "outputId": "dc0f3f68-0bf7-4e84-c190-c89ddb10c811"
      },
      "execution_count": 32,
      "outputs": [
        {
          "output_type": "stream",
          "name": "stderr",
          "text": [
            "/usr/local/lib/python3.7/dist-packages/sklearn/svm/_base.py:1208: ConvergenceWarning: Liblinear failed to converge, increase the number of iterations.\n",
            "  ConvergenceWarning,\n",
            "/usr/local/lib/python3.7/dist-packages/sklearn/svm/_base.py:1208: ConvergenceWarning: Liblinear failed to converge, increase the number of iterations.\n",
            "  ConvergenceWarning,\n",
            "/usr/local/lib/python3.7/dist-packages/sklearn/svm/_base.py:1208: ConvergenceWarning: Liblinear failed to converge, increase the number of iterations.\n",
            "  ConvergenceWarning,\n",
            "/usr/local/lib/python3.7/dist-packages/sklearn/svm/_base.py:1208: ConvergenceWarning: Liblinear failed to converge, increase the number of iterations.\n",
            "  ConvergenceWarning,\n",
            "/usr/local/lib/python3.7/dist-packages/sklearn/svm/_base.py:1208: ConvergenceWarning: Liblinear failed to converge, increase the number of iterations.\n",
            "  ConvergenceWarning,\n",
            "/usr/local/lib/python3.7/dist-packages/sklearn/svm/_base.py:1208: ConvergenceWarning: Liblinear failed to converge, increase the number of iterations.\n",
            "  ConvergenceWarning,\n",
            "/usr/local/lib/python3.7/dist-packages/sklearn/svm/_base.py:1208: ConvergenceWarning: Liblinear failed to converge, increase the number of iterations.\n",
            "  ConvergenceWarning,\n",
            "/usr/local/lib/python3.7/dist-packages/sklearn/svm/_base.py:1208: ConvergenceWarning: Liblinear failed to converge, increase the number of iterations.\n",
            "  ConvergenceWarning,\n",
            "/usr/local/lib/python3.7/dist-packages/sklearn/svm/_base.py:1208: ConvergenceWarning: Liblinear failed to converge, increase the number of iterations.\n",
            "  ConvergenceWarning,\n",
            "/usr/local/lib/python3.7/dist-packages/sklearn/svm/_base.py:1208: ConvergenceWarning: Liblinear failed to converge, increase the number of iterations.\n",
            "  ConvergenceWarning,\n",
            "/usr/local/lib/python3.7/dist-packages/sklearn/svm/_base.py:1208: ConvergenceWarning: Liblinear failed to converge, increase the number of iterations.\n",
            "  ConvergenceWarning,\n",
            "/usr/local/lib/python3.7/dist-packages/sklearn/svm/_base.py:1208: ConvergenceWarning: Liblinear failed to converge, increase the number of iterations.\n",
            "  ConvergenceWarning,\n",
            "/usr/local/lib/python3.7/dist-packages/sklearn/svm/_base.py:1208: ConvergenceWarning: Liblinear failed to converge, increase the number of iterations.\n",
            "  ConvergenceWarning,\n",
            "/usr/local/lib/python3.7/dist-packages/sklearn/svm/_base.py:1208: ConvergenceWarning: Liblinear failed to converge, increase the number of iterations.\n",
            "  ConvergenceWarning,\n",
            "/usr/local/lib/python3.7/dist-packages/sklearn/svm/_base.py:1208: ConvergenceWarning: Liblinear failed to converge, increase the number of iterations.\n",
            "  ConvergenceWarning,\n",
            "/usr/local/lib/python3.7/dist-packages/sklearn/svm/_base.py:1208: ConvergenceWarning: Liblinear failed to converge, increase the number of iterations.\n",
            "  ConvergenceWarning,\n",
            "/usr/local/lib/python3.7/dist-packages/sklearn/svm/_base.py:1208: ConvergenceWarning: Liblinear failed to converge, increase the number of iterations.\n",
            "  ConvergenceWarning,\n",
            "/usr/local/lib/python3.7/dist-packages/sklearn/svm/_base.py:1208: ConvergenceWarning: Liblinear failed to converge, increase the number of iterations.\n",
            "  ConvergenceWarning,\n",
            "/usr/local/lib/python3.7/dist-packages/sklearn/svm/_base.py:1208: ConvergenceWarning: Liblinear failed to converge, increase the number of iterations.\n",
            "  ConvergenceWarning,\n",
            "/usr/local/lib/python3.7/dist-packages/sklearn/svm/_base.py:1208: ConvergenceWarning: Liblinear failed to converge, increase the number of iterations.\n",
            "  ConvergenceWarning,\n",
            "/usr/local/lib/python3.7/dist-packages/sklearn/svm/_base.py:1208: ConvergenceWarning: Liblinear failed to converge, increase the number of iterations.\n",
            "  ConvergenceWarning,\n",
            "/usr/local/lib/python3.7/dist-packages/sklearn/svm/_base.py:1208: ConvergenceWarning: Liblinear failed to converge, increase the number of iterations.\n",
            "  ConvergenceWarning,\n",
            "/usr/local/lib/python3.7/dist-packages/sklearn/svm/_base.py:1208: ConvergenceWarning: Liblinear failed to converge, increase the number of iterations.\n",
            "  ConvergenceWarning,\n",
            "/usr/local/lib/python3.7/dist-packages/sklearn/svm/_base.py:1208: ConvergenceWarning: Liblinear failed to converge, increase the number of iterations.\n",
            "  ConvergenceWarning,\n",
            "/usr/local/lib/python3.7/dist-packages/sklearn/svm/_base.py:1208: ConvergenceWarning: Liblinear failed to converge, increase the number of iterations.\n",
            "  ConvergenceWarning,\n",
            "/usr/local/lib/python3.7/dist-packages/sklearn/svm/_base.py:1208: ConvergenceWarning: Liblinear failed to converge, increase the number of iterations.\n",
            "  ConvergenceWarning,\n",
            "/usr/local/lib/python3.7/dist-packages/sklearn/svm/_base.py:1208: ConvergenceWarning: Liblinear failed to converge, increase the number of iterations.\n",
            "  ConvergenceWarning,\n",
            "/usr/local/lib/python3.7/dist-packages/sklearn/svm/_base.py:1208: ConvergenceWarning: Liblinear failed to converge, increase the number of iterations.\n",
            "  ConvergenceWarning,\n",
            "/usr/local/lib/python3.7/dist-packages/sklearn/svm/_base.py:1208: ConvergenceWarning: Liblinear failed to converge, increase the number of iterations.\n",
            "  ConvergenceWarning,\n",
            "/usr/local/lib/python3.7/dist-packages/sklearn/svm/_base.py:1208: ConvergenceWarning: Liblinear failed to converge, increase the number of iterations.\n",
            "  ConvergenceWarning,\n",
            "/usr/local/lib/python3.7/dist-packages/sklearn/svm/_base.py:1208: ConvergenceWarning: Liblinear failed to converge, increase the number of iterations.\n",
            "  ConvergenceWarning,\n",
            "/usr/local/lib/python3.7/dist-packages/sklearn/svm/_base.py:1208: ConvergenceWarning: Liblinear failed to converge, increase the number of iterations.\n",
            "  ConvergenceWarning,\n",
            "/usr/local/lib/python3.7/dist-packages/sklearn/svm/_base.py:1208: ConvergenceWarning: Liblinear failed to converge, increase the number of iterations.\n",
            "  ConvergenceWarning,\n",
            "/usr/local/lib/python3.7/dist-packages/sklearn/svm/_base.py:1208: ConvergenceWarning: Liblinear failed to converge, increase the number of iterations.\n",
            "  ConvergenceWarning,\n",
            "/usr/local/lib/python3.7/dist-packages/sklearn/svm/_base.py:1208: ConvergenceWarning: Liblinear failed to converge, increase the number of iterations.\n",
            "  ConvergenceWarning,\n",
            "/usr/local/lib/python3.7/dist-packages/sklearn/svm/_base.py:1208: ConvergenceWarning: Liblinear failed to converge, increase the number of iterations.\n",
            "  ConvergenceWarning,\n",
            "/usr/local/lib/python3.7/dist-packages/sklearn/svm/_base.py:1208: ConvergenceWarning: Liblinear failed to converge, increase the number of iterations.\n",
            "  ConvergenceWarning,\n",
            "/usr/local/lib/python3.7/dist-packages/sklearn/svm/_base.py:1208: ConvergenceWarning: Liblinear failed to converge, increase the number of iterations.\n",
            "  ConvergenceWarning,\n",
            "/usr/local/lib/python3.7/dist-packages/sklearn/svm/_base.py:1208: ConvergenceWarning: Liblinear failed to converge, increase the number of iterations.\n",
            "  ConvergenceWarning,\n",
            "/usr/local/lib/python3.7/dist-packages/sklearn/svm/_base.py:1208: ConvergenceWarning: Liblinear failed to converge, increase the number of iterations.\n",
            "  ConvergenceWarning,\n",
            "/usr/local/lib/python3.7/dist-packages/sklearn/svm/_base.py:1208: ConvergenceWarning: Liblinear failed to converge, increase the number of iterations.\n",
            "  ConvergenceWarning,\n",
            "/usr/local/lib/python3.7/dist-packages/sklearn/svm/_base.py:1208: ConvergenceWarning: Liblinear failed to converge, increase the number of iterations.\n",
            "  ConvergenceWarning,\n",
            "/usr/local/lib/python3.7/dist-packages/sklearn/svm/_base.py:1208: ConvergenceWarning: Liblinear failed to converge, increase the number of iterations.\n",
            "  ConvergenceWarning,\n",
            "/usr/local/lib/python3.7/dist-packages/sklearn/svm/_base.py:1208: ConvergenceWarning: Liblinear failed to converge, increase the number of iterations.\n",
            "  ConvergenceWarning,\n",
            "/usr/local/lib/python3.7/dist-packages/sklearn/svm/_base.py:1208: ConvergenceWarning: Liblinear failed to converge, increase the number of iterations.\n",
            "  ConvergenceWarning,\n",
            "/usr/local/lib/python3.7/dist-packages/sklearn/svm/_base.py:1208: ConvergenceWarning: Liblinear failed to converge, increase the number of iterations.\n",
            "  ConvergenceWarning,\n",
            "/usr/local/lib/python3.7/dist-packages/sklearn/svm/_base.py:1208: ConvergenceWarning: Liblinear failed to converge, increase the number of iterations.\n",
            "  ConvergenceWarning,\n",
            "/usr/local/lib/python3.7/dist-packages/sklearn/svm/_base.py:1208: ConvergenceWarning: Liblinear failed to converge, increase the number of iterations.\n",
            "  ConvergenceWarning,\n",
            "/usr/local/lib/python3.7/dist-packages/sklearn/svm/_base.py:1208: ConvergenceWarning: Liblinear failed to converge, increase the number of iterations.\n",
            "  ConvergenceWarning,\n",
            "/usr/local/lib/python3.7/dist-packages/sklearn/svm/_base.py:1208: ConvergenceWarning: Liblinear failed to converge, increase the number of iterations.\n",
            "  ConvergenceWarning,\n",
            "/usr/local/lib/python3.7/dist-packages/sklearn/svm/_base.py:1208: ConvergenceWarning: Liblinear failed to converge, increase the number of iterations.\n",
            "  ConvergenceWarning,\n",
            "/usr/local/lib/python3.7/dist-packages/sklearn/svm/_base.py:1208: ConvergenceWarning: Liblinear failed to converge, increase the number of iterations.\n",
            "  ConvergenceWarning,\n",
            "/usr/local/lib/python3.7/dist-packages/sklearn/svm/_base.py:1208: ConvergenceWarning: Liblinear failed to converge, increase the number of iterations.\n",
            "  ConvergenceWarning,\n",
            "/usr/local/lib/python3.7/dist-packages/sklearn/svm/_base.py:1208: ConvergenceWarning: Liblinear failed to converge, increase the number of iterations.\n",
            "  ConvergenceWarning,\n",
            "/usr/local/lib/python3.7/dist-packages/sklearn/svm/_base.py:1208: ConvergenceWarning: Liblinear failed to converge, increase the number of iterations.\n",
            "  ConvergenceWarning,\n",
            "/usr/local/lib/python3.7/dist-packages/sklearn/svm/_base.py:1208: ConvergenceWarning: Liblinear failed to converge, increase the number of iterations.\n",
            "  ConvergenceWarning,\n",
            "/usr/local/lib/python3.7/dist-packages/sklearn/svm/_base.py:1208: ConvergenceWarning: Liblinear failed to converge, increase the number of iterations.\n",
            "  ConvergenceWarning,\n",
            "/usr/local/lib/python3.7/dist-packages/sklearn/svm/_base.py:1208: ConvergenceWarning: Liblinear failed to converge, increase the number of iterations.\n",
            "  ConvergenceWarning,\n",
            "/usr/local/lib/python3.7/dist-packages/sklearn/svm/_base.py:1208: ConvergenceWarning: Liblinear failed to converge, increase the number of iterations.\n",
            "  ConvergenceWarning,\n",
            "/usr/local/lib/python3.7/dist-packages/sklearn/svm/_base.py:1208: ConvergenceWarning: Liblinear failed to converge, increase the number of iterations.\n",
            "  ConvergenceWarning,\n"
          ]
        }
      ]
    },
    {
      "cell_type": "code",
      "source": [
        "# print best parameter for LinearSVC Model\n",
        "print(\"best mean cross-validation score: {:.3f}\".format(grid_svc.best_score_))\n",
        "print(\"best parameters: {}\".format(grid_svc.best_params_))\n"
      ],
      "metadata": {
        "colab": {
          "base_uri": "https://localhost:8080/"
        },
        "id": "6a_5ZKnUvALw",
        "outputId": "ba1e40c9-3b4c-4d06-9377-b0f404d06446"
      },
      "execution_count": 33,
      "outputs": [
        {
          "output_type": "stream",
          "name": "stdout",
          "text": [
            "best mean cross-validation score: 0.756\n",
            "best parameters: {'linearsvc__C': 0.01438449888287663}\n"
          ]
        }
      ]
    },
    {
      "cell_type": "code",
      "source": [
        "# LinearSVC Model with C = 0.08858667904100832\n",
        "\n",
        "model_svc_new_c = make_pipeline(preprocess_data, LinearSVC(C=0.01438449888287663, max_iter=5000)).fit(X_train, y_train)\n",
        "\n",
        "scores_svcs_grid = cross_val_score(model_svcs, X_test, y_test, cv=skf, scoring='accuracy')\n",
        "\n",
        "print('Accuracy of Logistic regression classifier with C=0.01438449888287663 on test set: {:.3f}'\n",
        "     .format(np.mean(scores_svcs_grid)))"
      ],
      "metadata": {
        "colab": {
          "base_uri": "https://localhost:8080/"
        },
        "id": "Qw_cygqDvN1l",
        "outputId": "e30030b9-afec-411e-bb2a-f7cbe832a370"
      },
      "execution_count": 55,
      "outputs": [
        {
          "output_type": "stream",
          "name": "stdout",
          "text": [
            "Accuracy of Logistic regression classifier with C=0.01438449888287663 on test set: 0.752\n"
          ]
        }
      ]
    },
    {
      "cell_type": "code",
      "source": [
        "# k-nearest neighbors Model\n",
        "\n",
        "# Create Pipeline for Linear support vector machines\n",
        "knn_pipe = make_pipeline(preprocess_data, KNeighborsClassifier())\n",
        "\n",
        "# Assign parameter for grid search\n",
        "param_grid_knn = {'kneighborsclassifier__n_neighbors': range(1,10)}\n",
        "\n",
        "# Fit LinearSVC Model\n",
        "grid_knn = GridSearchCV(knn_pipe, param_grid_knn, cv=skf, return_train_score=True).fit(X_train, y_train)"
      ],
      "metadata": {
        "id": "_V4skWXNwdty"
      },
      "execution_count": 35,
      "outputs": []
    },
    {
      "cell_type": "code",
      "source": [
        "# print best parameter for k-nearest neighbors Model\n",
        "print(\"best parameters: {}\".format(grid_knn.best_params_))\n"
      ],
      "metadata": {
        "colab": {
          "base_uri": "https://localhost:8080/"
        },
        "id": "jXgm6hRvPa36",
        "outputId": "93a8f9e5-96de-430b-bd8e-7f51ff0d0c9b"
      },
      "execution_count": 36,
      "outputs": [
        {
          "output_type": "stream",
          "name": "stdout",
          "text": [
            "best parameters: {'kneighborsclassifier__n_neighbors': 9}\n"
          ]
        }
      ]
    },
    {
      "cell_type": "code",
      "source": [
        "# k-nearest neighbors Model with n_neighbors=9\n",
        "\n",
        "model_knn_new_c = make_pipeline(preprocess_data, KNeighborsClassifier(n_neighbors=9)).fit(X_train, y_train)\n",
        "\n",
        "scores_knns_grid = cross_val_score(model_knns, X_test, y_test, cv=skf, scoring='accuracy')\n",
        "\n",
        "print('Accuracy of Logistic regression classifier with C=9 on test set: {:.3f}'.format(np.mean(scores_knns_grid)))"
      ],
      "metadata": {
        "colab": {
          "base_uri": "https://localhost:8080/"
        },
        "id": "f0EirVckPoZY",
        "outputId": "62a7635b-f265-4a74-9659-c0e74e050106"
      },
      "execution_count": 60,
      "outputs": [
        {
          "output_type": "stream",
          "name": "stdout",
          "text": [
            "Accuracy of Logistic regression classifier with C=9 on test set: 0.668\n"
          ]
        }
      ]
    },
    {
      "cell_type": "markdown",
      "source": [
        "สรุป ข้อ 6\n",
        "\n",
        "\n",
        "\n",
        "> ค่า accuracy ก่อน GridSearchCV ของ train_set ของทั้งสามโมเดลเป็นดังนี้\n",
        "\n",
        "\n",
        "    lr = 0.745\n",
        "\n",
        "    svc  0.745\n",
        "\n",
        "    knn = 0.725\n",
        "\n",
        "> ค่า accuracy หลัง GridSearchCV ของ train_set ของทั้งสามโมเดลเป็นดังนี้\n",
        "\n",
        "\n",
        "\n",
        "    lr = 0.740\n",
        "\n",
        "    svc  0.752\n",
        "\n",
        "    knn = 0.668\n",
        "\n",
        "\n",
        "\n",
        "\n",
        "\n",
        "\n",
        "\n",
        "\n",
        "\n",
        "\n",
        "\n",
        "\n",
        "\n",
        "\n"
      ],
      "metadata": {
        "id": "XtMUtwrihNHM"
      }
    },
    {
      "cell_type": "markdown",
      "source": [
        "Visualizing performance"
      ],
      "metadata": {
        "id": "eUjwprOJR_z2"
      }
    },
    {
      "cell_type": "markdown",
      "source": [
        "For logistic regression"
      ],
      "metadata": {
        "id": "3hRS900nSIoM"
      }
    },
    {
      "cell_type": "code",
      "source": [
        "grid_lrs.cv_results_"
      ],
      "metadata": {
        "colab": {
          "base_uri": "https://localhost:8080/"
        },
        "id": "vGRlihOVS6HU",
        "outputId": "06f61e0a-b932-43a7-f427-0ff8777f3310"
      },
      "execution_count": 38,
      "outputs": [
        {
          "output_type": "execute_result",
          "data": {
            "text/plain": [
              "{'mean_fit_time': array([0.03445401, 0.04449925, 0.06109586, 0.08526058, 0.06276898,\n",
              "        0.06514349, 0.06191921, 0.06706119, 0.07299604, 0.06402383,\n",
              "        0.0747961 , 0.06857615, 0.07573295, 0.06534328, 0.07330737,\n",
              "        0.07022147, 0.06832442, 0.06786141, 0.06981206, 0.06580162]),\n",
              " 'mean_score_time': array([0.01274438, 0.01204777, 0.01157351, 0.01219316, 0.0109911 ,\n",
              "        0.01203179, 0.01091151, 0.01139541, 0.01117105, 0.01097698,\n",
              "        0.01139812, 0.01185083, 0.01504989, 0.01109281, 0.01123815,\n",
              "        0.01252093, 0.01276727, 0.01140814, 0.01100736, 0.01094069]),\n",
              " 'mean_test_score': array([0.72133333, 0.74266667, 0.74933333, 0.74533333, 0.74133333,\n",
              "        0.74133333, 0.74133333, 0.74133333, 0.74133333, 0.74133333,\n",
              "        0.74133333, 0.74133333, 0.74133333, 0.74133333, 0.74133333,\n",
              "        0.74133333, 0.74133333, 0.74133333, 0.74133333, 0.74133333]),\n",
              " 'mean_train_score': array([0.73333333, 0.78666667, 0.79666667, 0.794     , 0.79366667,\n",
              "        0.794     , 0.794     , 0.794     , 0.794     , 0.794     ,\n",
              "        0.794     , 0.794     , 0.794     , 0.794     , 0.794     ,\n",
              "        0.794     , 0.794     , 0.794     , 0.794     , 0.794     ]),\n",
              " 'param_logisticregression__C': masked_array(data=[0.01, 0.14384498882876628, 2.06913808111479,\n",
              "                    29.763514416313193, 428.13323987193957,\n",
              "                    6158.482110660267, 88586.67904100832,\n",
              "                    1274274.985703132, 18329807.108324375,\n",
              "                    263665089.87303662, 3792690190.7322536,\n",
              "                    54555947811.68514, 784759970351.4623,\n",
              "                    11288378916846.93, 162377673918871.75,\n",
              "                    2335721469090121.5, 3.359818286283788e+16,\n",
              "                    4.832930238571772e+17, 6.951927961775648e+18, 1e+20],\n",
              "              mask=[False, False, False, False, False, False, False, False,\n",
              "                    False, False, False, False, False, False, False, False,\n",
              "                    False, False, False, False],\n",
              "        fill_value='?',\n",
              "             dtype=object),\n",
              " 'params': [{'logisticregression__C': 0.01},\n",
              "  {'logisticregression__C': 0.14384498882876628},\n",
              "  {'logisticregression__C': 2.06913808111479},\n",
              "  {'logisticregression__C': 29.763514416313193},\n",
              "  {'logisticregression__C': 428.13323987193957},\n",
              "  {'logisticregression__C': 6158.482110660267},\n",
              "  {'logisticregression__C': 88586.67904100832},\n",
              "  {'logisticregression__C': 1274274.985703132},\n",
              "  {'logisticregression__C': 18329807.108324375},\n",
              "  {'logisticregression__C': 263665089.87303662},\n",
              "  {'logisticregression__C': 3792690190.7322536},\n",
              "  {'logisticregression__C': 54555947811.68514},\n",
              "  {'logisticregression__C': 784759970351.4623},\n",
              "  {'logisticregression__C': 11288378916846.93},\n",
              "  {'logisticregression__C': 162377673918871.75},\n",
              "  {'logisticregression__C': 2335721469090121.5},\n",
              "  {'logisticregression__C': 3.359818286283788e+16},\n",
              "  {'logisticregression__C': 4.832930238571772e+17},\n",
              "  {'logisticregression__C': 6.951927961775648e+18},\n",
              "  {'logisticregression__C': 1e+20}],\n",
              " 'rank_test_score': array([20,  3,  1,  2,  4,  4,  4,  4,  4,  4,  4,  4,  4,  4,  4,  4,  4,\n",
              "         4,  4,  4], dtype=int32),\n",
              " 'split0_test_score': array([0.69333333, 0.72      , 0.72666667, 0.73333333, 0.73333333,\n",
              "        0.73333333, 0.73333333, 0.73333333, 0.73333333, 0.73333333,\n",
              "        0.73333333, 0.73333333, 0.73333333, 0.73333333, 0.73333333,\n",
              "        0.73333333, 0.73333333, 0.73333333, 0.73333333, 0.73333333]),\n",
              " 'split0_train_score': array([0.73833333, 0.8       , 0.81      , 0.805     , 0.80333333,\n",
              "        0.80333333, 0.80333333, 0.80333333, 0.80333333, 0.80333333,\n",
              "        0.80333333, 0.80333333, 0.80333333, 0.80333333, 0.80333333,\n",
              "        0.80333333, 0.80333333, 0.80333333, 0.80333333, 0.80333333]),\n",
              " 'split1_test_score': array([0.74      , 0.78      , 0.77333333, 0.76666667, 0.76666667,\n",
              "        0.76666667, 0.76666667, 0.76666667, 0.76666667, 0.76666667,\n",
              "        0.76666667, 0.76666667, 0.76666667, 0.76666667, 0.76666667,\n",
              "        0.76666667, 0.76666667, 0.76666667, 0.76666667, 0.76666667]),\n",
              " 'split1_train_score': array([0.72666667, 0.78333333, 0.795     , 0.795     , 0.795     ,\n",
              "        0.795     , 0.795     , 0.795     , 0.795     , 0.795     ,\n",
              "        0.795     , 0.795     , 0.795     , 0.795     , 0.795     ,\n",
              "        0.795     , 0.795     , 0.795     , 0.795     , 0.795     ]),\n",
              " 'split2_test_score': array([0.72666667, 0.73333333, 0.74666667, 0.74      , 0.74      ,\n",
              "        0.74      , 0.74      , 0.74      , 0.74      , 0.74      ,\n",
              "        0.74      , 0.74      , 0.74      , 0.74      , 0.74      ,\n",
              "        0.74      , 0.74      , 0.74      , 0.74      , 0.74      ]),\n",
              " 'split2_train_score': array([0.735     , 0.785     , 0.79333333, 0.785     , 0.785     ,\n",
              "        0.78666667, 0.78666667, 0.78666667, 0.78666667, 0.78666667,\n",
              "        0.78666667, 0.78666667, 0.78666667, 0.78666667, 0.78666667,\n",
              "        0.78666667, 0.78666667, 0.78666667, 0.78666667, 0.78666667]),\n",
              " 'split3_test_score': array([0.72666667, 0.70666667, 0.72666667, 0.71333333, 0.70666667,\n",
              "        0.70666667, 0.70666667, 0.70666667, 0.70666667, 0.70666667,\n",
              "        0.70666667, 0.70666667, 0.70666667, 0.70666667, 0.70666667,\n",
              "        0.70666667, 0.70666667, 0.70666667, 0.70666667, 0.70666667]),\n",
              " 'split3_train_score': array([0.73666667, 0.795     , 0.80666667, 0.805     , 0.805     ,\n",
              "        0.805     , 0.805     , 0.805     , 0.805     , 0.805     ,\n",
              "        0.805     , 0.805     , 0.805     , 0.805     , 0.805     ,\n",
              "        0.805     , 0.805     , 0.805     , 0.805     , 0.805     ]),\n",
              " 'split4_test_score': array([0.72      , 0.77333333, 0.77333333, 0.77333333, 0.76      ,\n",
              "        0.76      , 0.76      , 0.76      , 0.76      , 0.76      ,\n",
              "        0.76      , 0.76      , 0.76      , 0.76      , 0.76      ,\n",
              "        0.76      , 0.76      , 0.76      , 0.76      , 0.76      ]),\n",
              " 'split4_train_score': array([0.73      , 0.77      , 0.77833333, 0.78      , 0.78      ,\n",
              "        0.78      , 0.78      , 0.78      , 0.78      , 0.78      ,\n",
              "        0.78      , 0.78      , 0.78      , 0.78      , 0.78      ,\n",
              "        0.78      , 0.78      , 0.78      , 0.78      , 0.78      ]),\n",
              " 'std_fit_time': array([0.00583052, 0.01096344, 0.00745566, 0.01330906, 0.01904034,\n",
              "        0.01426081, 0.01734217, 0.02450876, 0.03755364, 0.02513452,\n",
              "        0.03519894, 0.02827551, 0.03841645, 0.02550574, 0.03582713,\n",
              "        0.03132703, 0.02401466, 0.02544984, 0.02646317, 0.02673671]),\n",
              " 'std_score_time': array([2.15744000e-03, 1.48939851e-03, 1.07941684e-03, 1.16561115e-03,\n",
              "        1.69403204e-04, 4.82972914e-04, 8.61294369e-05, 5.39320057e-04,\n",
              "        2.30724714e-04, 2.45188044e-04, 2.74487921e-04, 1.96559324e-03,\n",
              "        5.03596093e-03, 4.48050556e-04, 4.97097292e-04, 2.62511183e-03,\n",
              "        2.23305031e-03, 4.70288353e-04, 3.36112207e-04, 1.41067146e-04]),\n",
              " 'std_test_score': array([0.01543445, 0.0290899 , 0.02091252, 0.02207059, 0.02124984,\n",
              "        0.02124984, 0.02124984, 0.02124984, 0.02124984, 0.02124984,\n",
              "        0.02124984, 0.02124984, 0.02124984, 0.02124984, 0.02124984,\n",
              "        0.02124984, 0.02124984, 0.02124984, 0.02124984, 0.02124984]),\n",
              " 'std_train_score': array([0.00434613, 0.01038161, 0.01120516, 0.01019804, 0.0098545 ,\n",
              "        0.00958007, 0.00958007, 0.00958007, 0.00958007, 0.00958007,\n",
              "        0.00958007, 0.00958007, 0.00958007, 0.00958007, 0.00958007,\n",
              "        0.00958007, 0.00958007, 0.00958007, 0.00958007, 0.00958007])}"
            ]
          },
          "metadata": {},
          "execution_count": 38
        }
      ]
    },
    {
      "cell_type": "code",
      "source": [
        "lr_cvalues = np.logspace(-2, 20, 20)\n",
        "lr_mean_test_scores = np.asarray(grid_lrs.cv_results_['mean_test_score'])\n",
        "lr_mean_train_scores = np.asarray(grid_lrs.cv_results_['mean_train_score'])\n",
        "std_test = np.asarray(grid_lrs.cv_results_['std_test_score'])\n",
        "std_train = np.asarray(grid_lrs.cv_results_['std_train_score'])\n",
        "\n",
        "fig, ax = plt.subplots(figsize=(15,10))\n",
        "\n",
        "ax.plot(lr_cvalues, lr_mean_test_scores, label='mean_test_score')\n",
        "ax.plot(lr_cvalues, lr_mean_train_scores, label='mean_train_score')\n",
        "ax.set_xscale(\"log\")\n",
        "ax.fill_between(lr_cvalues, lr_mean_test_scores + std_test, lr_mean_test_scores - std_test, alpha=0.2)\n",
        "ax.fill_between(lr_cvalues, lr_mean_train_scores+std_train, lr_mean_train_scores-std_train, alpha=0.2)\n",
        "\n",
        "ax.set(xlabel='C', ylabel='mean_test_scores',\n",
        "       title='Logistic Regression mean test scores for variable C')\n",
        "ax.legend(loc='upper left')\n",
        "\n",
        "plt.show()"
      ],
      "metadata": {
        "colab": {
          "base_uri": "https://localhost:8080/",
          "height": 624
        },
        "id": "oRzhURGaSAZx",
        "outputId": "20421cbd-8019-481b-9ab3-cb9acafb1e39"
      },
      "execution_count": 39,
      "outputs": [
        {
          "output_type": "display_data",
          "data": {
            "image/png": "[encoded data removed]",
            "text/plain": [
              "<Figure size 1080x720 with 1 Axes>"
            ]
          },
          "metadata": {
            "needs_background": "light"
          }
        }
      ]
    },
    {
      "cell_type": "markdown",
      "source": [
        "For SVC"
      ],
      "metadata": {
        "id": "Ky8BEYXsVaVo"
      }
    },
    {
      "cell_type": "code",
      "source": [
        "svc_c_values = np.logspace(-5, 10, 20)\n",
        "svc_mean_test_scores = np.asarray(grid_svc .cv_results_['mean_test_score'])\n",
        "svc_mean_train_scores = np.asarray(grid_svc .cv_results_['mean_train_score'])\n",
        "std_test = np.asarray(grid_svc .cv_results_['std_test_score'])\n",
        "std_train = np.asarray(grid_svc .cv_results_['std_train_score'])\n",
        "\n",
        "fig, ax = plt.subplots(figsize=(15,10))\n",
        "\n",
        "ax.plot(svc_c_values, svc_mean_test_scores, label='mean_test_score')\n",
        "ax.plot(svc_c_values, svc_mean_train_scores, label='mean_train_score')\n",
        "ax.set_xscale(\"log\")\n",
        "ax.fill_between(svc_c_values, svc_mean_test_scores + std_test, svc_mean_test_scores - std_test, alpha=0.2)\n",
        "ax.fill_between(svc_c_values, svc_mean_train_scores+std_train, svc_mean_train_scores-std_train, alpha=0.2)\n",
        "\n",
        "ax.set(xlabel='C', ylabel='mean_test_scores',\n",
        "       title='SVC mean test scores for variable C')\n",
        "ax.legend(loc='upper left')\n",
        "\n",
        "plt.show()"
      ],
      "metadata": {
        "colab": {
          "base_uri": "https://localhost:8080/",
          "height": 624
        },
        "id": "4OACaJhtVcEr",
        "outputId": "7a3a5035-dcf9-42d5-d701-0d4f0242c268"
      },
      "execution_count": 40,
      "outputs": [
        {
          "output_type": "display_data",
          "data": {
            "image/png": "[encoded data removed]",
            "text/plain": [
              "<Figure size 1080x720 with 1 Axes>"
            ]
          },
          "metadata": {
            "needs_background": "light"
          }
        }
      ]
    },
    {
      "cell_type": "markdown",
      "source": [
        "For KNearestNeighbors"
      ],
      "metadata": {
        "id": "xJ9VWfvpV0aG"
      }
    },
    {
      "cell_type": "code",
      "source": [
        "knn_c_values = range(1, 10)\n",
        "knn_mean_test_scores = np.asarray(grid_knn.cv_results_['mean_test_score'])\n",
        "knn_mean_train_scores = np.asarray(grid_knn.cv_results_['mean_train_score'])\n",
        "std_test = np.asarray(grid_knn.cv_results_['std_test_score'])\n",
        "std_train = np.asarray(grid_knn.cv_results_['std_train_score'])\n",
        "\n",
        "fig, ax = plt.subplots(figsize=(15,10))\n",
        "\n",
        "ax.plot(knn_c_values, knn_mean_test_scores, label='mean_test_score')\n",
        "ax.plot(knn_c_values, knn_mean_train_scores, label='mean_train_score')\n",
        "# ax.set_xscale(\"log\")\n",
        "ax.fill_between(knn_c_values, knn_mean_test_scores + std_test, knn_mean_test_scores - std_test, alpha=0.2, label='test standard deviation')\n",
        "ax.fill_between(knn_c_values, knn_mean_train_scores+std_train, knn_mean_train_scores-std_train, alpha=0.2, label='training standard deviation')\n",
        "\n",
        "ax.set(xlabel='C', ylabel='mean_test_scores',\n",
        "       title='SVC mean test scores for variable C')\n",
        "ax.legend(loc='upper left')\n",
        "\n",
        "plt.show()"
      ],
      "metadata": {
        "colab": {
          "base_uri": "https://localhost:8080/",
          "height": 621
        },
        "id": "onP8MY-bV2Qm",
        "outputId": "e1bdf957-e91f-4d0f-ddc1-b255dbfa2274"
      },
      "execution_count": 41,
      "outputs": [
        {
          "output_type": "display_data",
          "data": {
            "image/png": "[encoded data removed]",
            "text/plain": [
              "<Figure size 1080x720 with 1 Axes>"
            ]
          },
          "metadata": {
            "needs_background": "light"
          }
        }
      ]
    },
    {
      "cell_type": "markdown",
      "source": [
        "## ข้อ 8\n",
        "\n",
        "ให้แสดงรูปของค่าcoefficients20 ตัวที่สําคัญที่สุดของ LogisticRegression และ Linear Support \n",
        "Vector Machines ที่ใช้ค่า hyper-parameters ที่ดีทีสุดที่ได้จากการทํา grid search"
      ],
      "metadata": {
        "id": "odI5MlsoWZzm"
      }
    },
    {
      "cell_type": "markdown",
      "source": [
        "Plotting performance of best 20 coefficients for Logistic Regression"
      ],
      "metadata": {
        "id": "eQdhcVv-cViG"
      }
    },
    {
      "cell_type": "code",
      "source": [
        "categorical_fe = credit_dataX[categorical_features]\n",
        "enc = OneHotEncoder()\n",
        "enc.fit_transform(categorical_fe)\n",
        "encoded_categories = list(enc.get_feature_names(categorical_features))\n",
        "all_features = numeric_features + encoded_categories"
      ],
      "metadata": {
        "colab": {
          "base_uri": "https://localhost:8080/"
        },
        "id": "RPrsg-KDcNQQ",
        "outputId": "36d2851d-7e6b-4c0d-fa79-cf53e64ff13c"
      },
      "execution_count": 42,
      "outputs": [
        {
          "output_type": "stream",
          "name": "stderr",
          "text": [
            "/usr/local/lib/python3.7/dist-packages/sklearn/utils/deprecation.py:87: FutureWarning: Function get_feature_names is deprecated; get_feature_names is deprecated in 1.0 and will be removed in 1.2. Please use get_feature_names_out instead.\n",
            "  warnings.warn(msg, category=FutureWarning)\n"
          ]
        }
      ]
    },
    {
      "cell_type": "code",
      "source": [
        "plr = make_column_transformer(\n",
        "    (StandardScaler(), numeric_features),\n",
        "    (OneHotEncoder(), categorical_features))\n",
        "mlr = make_pipeline(plr, LogisticRegression(C=2.06913808111479))\n",
        "mlr.fit(X_train, y_train)\n",
        "coefficients = mlr.steps[1][1].coef_"
      ],
      "metadata": {
        "id": "xU5sumhqcPqu"
      },
      "execution_count": 51,
      "outputs": []
    },
    {
      "cell_type": "code",
      "source": [
        "# convert the above array into an array of tuples\n",
        "coeff_tuples = []\n",
        "for index, coeff in enumerate(coefficients[0]):\n",
        "  coeff_tuples.append((index, coeff))\n",
        "sorted_tuples = sorted(coeff_tuples, key = lambda x: x[1])"
      ],
      "metadata": {
        "id": "PkH78xx5cX69"
      },
      "execution_count": 52,
      "outputs": []
    },
    {
      "cell_type": "code",
      "source": [
        "best_coeff = sorted_tuples[-20:]\n",
        "indices = [ tup[0] for tup in best_coeff ]\n",
        "coeffs = [tup[1] for tup in best_coeff]\n",
        "# map indices to column names\n",
        "feature_names = []\n",
        "for index in indices:\n",
        "  feature_names.append(all_features[index])"
      ],
      "metadata": {
        "id": "wNnkT9AhcoFi"
      },
      "execution_count": 53,
      "outputs": []
    },
    {
      "cell_type": "code",
      "source": [
        "coeffs = [tup[1] for tup in best_coeff]\n",
        "\n",
        "plt.figure(figsize=(20,15))\n",
        "ax11 = plt.subplot(2, 2, 1)\n",
        "ax11.set_xlabel('Feature names')\n",
        "ax11.set_ylabel('coefficient')\n",
        "ax11.scatter(feature_names, coeffs, c=np.sign(coeffs), cmap='bwr_r')\n",
        "plt.xticks(rotation=90)\n",
        "plt.show()"
      ],
      "metadata": {
        "colab": {
          "base_uri": "https://localhost:8080/",
          "height": 634
        },
        "id": "ENJ85VZZWm4x",
        "outputId": "e9ae258a-f148-4b88-813f-9cef8e6cc1bd"
      },
      "execution_count": 54,
      "outputs": [
        {
          "output_type": "display_data",
          "data": {
            "image/png": "[encoded data removed]",
            "text/plain": [
              "<Figure size 1440x1080 with 1 Axes>"
            ]
          },
          "metadata": {
            "needs_background": "light"
          }
        }
      ]
    },
    {
      "cell_type": "markdown",
      "source": [
        "Plotting the best 20 coefficients for Linear SVC"
      ],
      "metadata": {
        "id": "e_4vvHFfcy8l"
      }
    },
    {
      "cell_type": "code",
      "source": [
        "preprocess_svcs = make_column_transformer(\n",
        "    (StandardScaler(), numeric_features),\n",
        "    (OneHotEncoder(), categorical_features))\n",
        "model_svcs = make_pipeline(preprocess_svcs, LinearSVC(C=0.01438449888287663))\n",
        "model_svcs.fit(X_train, y_train)\n",
        "scores_svcs = cross_val_score(model_svcs, X_train, y_train, scoring='accuracy')\n",
        "coefficients = model_svcs.steps[1][1].coef_"
      ],
      "metadata": {
        "id": "VPeBbagbcysK"
      },
      "execution_count": 56,
      "outputs": []
    },
    {
      "cell_type": "code",
      "source": [
        "coeff_tuples = []\n",
        "for index, coeff in enumerate(coefficients[0]):\n",
        "  coeff_tuples.append((index, coeff))\n",
        "sorted_tuples = sorted(coeff_tuples, key = lambda x: x[1])\n",
        "best_coeff = sorted_tuples[-20:]\n",
        "indices = [ tup[0] for tup in best_coeff ]\n",
        "coeffs = [tup[1] for tup in best_coeff]\n",
        "feature_names = []\n",
        "for index in indices:\n",
        "  feature_names.append(all_features[index])"
      ],
      "metadata": {
        "id": "Qyksxc9Obtle"
      },
      "execution_count": 57,
      "outputs": []
    },
    {
      "cell_type": "code",
      "source": [
        "plt.figure(figsize=(20,15))\n",
        "ax11 = plt.subplot(2, 2, 1)\n",
        "ax11.set_xlabel('Feature names')\n",
        "ax11.set_ylabel('coefficient')\n",
        "ax11.scatter(feature_names, coeffs, c=np.sign(coeffs), cmap='bwr_r')\n",
        "plt.xticks(rotation=90)\n",
        "plt.show()"
      ],
      "metadata": {
        "colab": {
          "base_uri": "https://localhost:8080/",
          "height": 634
        },
        "id": "HARc_lZhc2f3",
        "outputId": "b7301e17-aa51-4635-e1e0-672a65c85d95"
      },
      "execution_count": 58,
      "outputs": [
        {
          "output_type": "display_data",
          "data": {
            "image/png": "[encoded data removed]",
            "text/plain": [
              "<Figure size 1440x1080 with 1 Axes>"
            ]
          },
          "metadata": {
            "needs_background": "light"
          }
        }
      ]
    }
  ]
}