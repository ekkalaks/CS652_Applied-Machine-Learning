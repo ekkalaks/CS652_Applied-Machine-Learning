{
  "nbformat": 4,
  "nbformat_minor": 0,
  "metadata": {
    "colab": {
      "name": "Ridge-Lasso-Features-Preprocessing.ipynb",
      "provenance": [],
      "collapsed_sections": []
    },
    "kernelspec": {
      "name": "python3",
      "display_name": "Python 3"
    },
    "language_info": {
      "name": "python"
    }
  },
  "cells": [
    {
      "cell_type": "markdown",
      "metadata": {
        "id": "8M1vz_xIB7sF"
      },
      "source": [
        "#**Feature Preprocessing and Normalization : Ridge and Lasso Regression**\n",
        "\n",
        "\n",
        "1.   MinMaxScalar\n",
        "2.   Polynomial Features\n",
        "\n"
      ]
    },
    {
      "cell_type": "markdown",
      "metadata": {
        "id": "RbEP4ppVGhVY"
      },
      "source": [
        "\n",
        "\n",
        "##**1. MinMaxScalar**\n",
        "\n",
        "\n",
        "\n",
        "\n",
        "\n"
      ]
    },
    {
      "cell_type": "code",
      "metadata": {
        "id": "7xZZbut08DVp"
      },
      "source": [
        "def load_crime_dataset():\n",
        "    # Communities and Crime dataset for regression\n",
        "    # https://archive.ics.uci.edu/ml/datasets/Communities+and+Crime+Unnormalized\n",
        "\n",
        "    import pandas as pd\n",
        "\n",
        "    crime = pd.read_table('CommViolPredUnnormalizedData.txt', sep=',', na_values='?')\n",
        "    # remove features with poor coverage or lower relevance, and keep ViolentCrimesPerPop target column\n",
        "    columns_to_keep = [5, 6] + list(range(11,26)) + list(range(32, 103)) + [145] \n",
        "\n",
        "    crime = (crime[crime.columns[columns_to_keep]]\n",
        "         .dropna()\n",
        "         .reset_index(drop=True))\n",
        "    X_crime = crime[crime.columns[:88]]\n",
        "    y_crime = crime[crime.columns[88]]\n",
        "    return (X_crime, y_crime)\n"
      ],
      "execution_count": null,
      "outputs": []
    },
    {
      "cell_type": "markdown",
      "metadata": {
        "id": "eOPx2QXgCWbC"
      },
      "source": [
        "## Ridge Regression with alpha parameter"
      ]
    },
    {
      "cell_type": "code",
      "metadata": {
        "id": "5NMWaAVs9FGJ"
      },
      "source": [
        "import numpy as np\n",
        "\n",
        "from sklearn.model_selection import train_test_split\n",
        "from sklearn.linear_model import Ridge\n",
        "\n",
        "(X_crime, y_crime) = load_crime_dataset()\n",
        "X_train, X_test, y_train, y_test = train_test_split(X_crime, y_crime, random_state = 0)    \n",
        "\n",
        "linridge = Ridge(alpha=20.0).fit(X_train, y_train)\n",
        "\n",
        "print('Crime dataset')\n",
        "print('ridge regression linear model intercept: {}'\n",
        "     .format(linridge.intercept_))\n",
        "print('ridge regression linear model coeff:\\n{}'\n",
        "     .format(linridge.coef_))\n",
        "print('R-squared score (training): {:.3f}'\n",
        "     .format(linridge.score(X_train, y_train)))\n",
        "print('R-squared score (test): {:.3f}'\n",
        "     .format(linridge.score(X_test, y_test)))\n",
        "print('Number of non-zero features: {}'\n",
        "     .format(np.sum(linridge.coef_ != 0)))"
      ],
      "execution_count": null,
      "outputs": []
    },
    {
      "cell_type": "markdown",
      "metadata": {
        "id": "kCXlucsKC7Uh"
      },
      "source": [
        "## Ridge Regression with MinMaxScalar"
      ]
    },
    {
      "cell_type": "code",
      "metadata": {
        "id": "atcgyNmV9Syr"
      },
      "source": [
        "from sklearn.preprocessing import MinMaxScaler\n",
        "scaler = MinMaxScaler()\n",
        "\n",
        "from sklearn.linear_model import Ridge\n",
        "X_train, X_test, y_train, y_test = train_test_split(X_crime, y_crime, random_state = 0)\n",
        "                                                    \n",
        "X_train_scaled = scaler.fit_transform(X_train)\n",
        "X_test_scaled = scaler.transform(X_test)\n",
        "\n",
        "linridge = Ridge(alpha=20.0).fit(X_train_scaled, y_train)\n",
        "\n",
        "print('Crime dataset')\n",
        "print('ridge regression linear model intercept: {}'\n",
        "     .format(linridge.intercept_))\n",
        "print('ridge regression linear model coeff:\\n{}'\n",
        "     .format(linridge.coef_))\n",
        "print('R-squared score (training): {:.3f}'\n",
        "     .format(linridge.score(X_train_scaled, y_train)))\n",
        "print('R-squared score (test): {:.3f}'\n",
        "     .format(linridge.score(X_test_scaled, y_test)))\n",
        "print('Number of non-zero features: {}'\n",
        "     .format(np.sum(linridge.coef_ != 0)))"
      ],
      "execution_count": null,
      "outputs": []
    },
    {
      "cell_type": "markdown",
      "metadata": {
        "id": "46YAwKb7DNRn"
      },
      "source": [
        "## Ridge Regression with MinMaxScalar and different Alpha"
      ]
    },
    {
      "cell_type": "code",
      "metadata": {
        "id": "eYfIRhzQ9j4h"
      },
      "source": [
        "for this_alpha in [0, 1, 10, 20, 50, 100, 1000]:\n",
        "    linridge = Ridge(alpha = this_alpha).fit(X_train_scaled, y_train)\n",
        "    r2_train = linridge.score(X_train_scaled, y_train)\n",
        "    r2_test = linridge.score(X_test_scaled, y_test)\n",
        "    num_coeff_bigger = np.sum(abs(linridge.coef_) > 1.0)\n",
        "    print('Alpha = {:.0f}:\\tnum abs(coeff) > 1.0: {},\\tr-squared training, test: {:.0f}, {:.2f}\\r'\n",
        "         .format(this_alpha, num_coeff_bigger, r2_train, r2_test))\n"
      ],
      "execution_count": null,
      "outputs": []
    },
    {
      "cell_type": "markdown",
      "metadata": {
        "id": "5nQvOxaQD8gW"
      },
      "source": [
        "## Lasso Regression with MinMaxScalar"
      ]
    },
    {
      "cell_type": "code",
      "metadata": {
        "id": "ndrz4yhB9o70"
      },
      "source": [
        "from sklearn.linear_model import Lasso\n",
        "scaler = MinMaxScaler()\n",
        "\n",
        "X_train, X_test, y_train, y_test = train_test_split(X_crime, y_crime, random_state = 0)\n",
        "\n",
        "X_train_scaled = scaler.fit_transform(X_train)\n",
        "X_test_scaled = scaler.transform(X_test)\n",
        "\n",
        "linlasso = Lasso(alpha=2.0, max_iter = 10000).fit(X_train_scaled, y_train)\n",
        "\n",
        "print('Crime dataset')\n",
        "print('lasso regression linear model intercept: {}'\n",
        "     .format(linlasso.intercept_))\n",
        "print('lasso regression linear model coeff:\\n{}'\n",
        "     .format(linlasso.coef_))\n",
        "print('Non-zero features: {}'\n",
        "     .format(np.sum(linlasso.coef_ != 0)))\n",
        "print('R-squared score (training): {:.3f}'\n",
        "     .format(linlasso.score(X_train_scaled, y_train)))\n",
        "print('R-squared score (test): {:.3f}\\n'\n",
        "     .format(linlasso.score(X_test_scaled, y_test)))\n",
        "print('Top Features with non-zero weight:')\n",
        "\n",
        "for e in sorted (list(zip(list(X_crime), linlasso.coef_)),\n",
        "                key = lambda e: -abs(e[1])):\n",
        "    if e[1] != 0:\n",
        "        print('\\t{}, {:.3f}'.format(e[0], e[1]))"
      ],
      "execution_count": null,
      "outputs": []
    },
    {
      "cell_type": "markdown",
      "metadata": {
        "id": "IheeA0mZEyb-"
      },
      "source": [
        "## Lasso Regression with MinMaxScalar and different Alpha"
      ]
    },
    {
      "cell_type": "code",
      "metadata": {
        "id": "IhKRdijp9asN"
      },
      "source": [
        "for alpha in [0.5, 1, 2, 3, 5, 10, 20, 50]:\n",
        "    linlasso = Lasso(alpha, max_iter = 10000).fit(X_train_scaled, y_train)\n",
        "    r2_train = linlasso.score(X_train_scaled, y_train)\n",
        "    r2_test = linlasso.score(X_test_scaled, y_test)\n",
        "    \n",
        "    print('Alpha = {:.0f}:\\tFeatures kept: {}\\tr-squared training, test:\\t{:.2f}, {:.2f}\\r'\n",
        "         .format(alpha, np.sum(linlasso.coef_ != 0), r2_train, r2_test))"
      ],
      "execution_count": null,
      "outputs": []
    },
    {
      "cell_type": "markdown",
      "metadata": {
        "id": "M_2MbCIdGOtg"
      },
      "source": [
        "## **2. Polynomial Features**\n",
        "\n",
        "\n",
        "\n",
        "\n",
        "\n"
      ]
    },
    {
      "cell_type": "code",
      "metadata": {
        "id": "I6Z0ZaoS_yzS"
      },
      "source": [
        "import matplotlib.pyplot as plt\n",
        "\n",
        "from sklearn.datasets import make_friedman1\n",
        "plt.figure()\n",
        "plt.title('Complex regression problem with one input variable')\n",
        "X_F1, y_F1 = make_friedman1(n_samples = 100,\n",
        "                           n_features = 7, random_state=0)\n",
        "\n",
        "plt.scatter(X_F1[:, 2], y_F1, marker= 'o', s=50)\n",
        "plt.show()"
      ],
      "execution_count": null,
      "outputs": []
    },
    {
      "cell_type": "code",
      "metadata": {
        "id": "wvsXDhPm-IVH"
      },
      "source": [
        "from sklearn.linear_model import LinearRegression\n",
        "\n",
        "X_train, X_test, y_train, y_test = train_test_split(X_F1, y_F1,\n",
        "                                                    random_state = 0)\n",
        "linreg = LinearRegression().fit(X_train, y_train)\n",
        "\n",
        "print('linear model coeff (w): {}'\n",
        "     .format(linreg.coef_))\n",
        "print('linear model intercept (b): {:.3f}'\n",
        "     .format(linreg.intercept_))\n",
        "print('R-squared score (training): {:.3f}'\n",
        "     .format(linreg.score(X_train, y_train)))\n",
        "print('R-squared score (test): {:.3f}'\n",
        "     .format(linreg.score(X_test, y_test)))"
      ],
      "execution_count": null,
      "outputs": []
    },
    {
      "cell_type": "code",
      "metadata": {
        "id": "icVHYOaAAH2h"
      },
      "source": [
        "from sklearn.preprocessing import PolynomialFeatures\n",
        "\n",
        "poly = PolynomialFeatures(degree=2)\n",
        "X_F1_poly = poly.fit_transform(X_F1)\n",
        "\n",
        "X_train, X_test, y_train, y_test = train_test_split(X_F1_poly, y_F1,\n",
        "                                                   random_state = 0)\n",
        "linreg = LinearRegression().fit(X_train, y_train)\n",
        "\n",
        "print('(poly deg 2) linear model coeff (w):\\n{}'\n",
        "     .format(linreg.coef_))\n",
        "print('(poly deg 2) linear model intercept (b): {:.3f}'\n",
        "     .format(linreg.intercept_))\n",
        "print('(poly deg 2) R-squared score (training): {:.3f}'\n",
        "     .format(linreg.score(X_train, y_train)))\n",
        "print('(poly deg 2) R-squared score (test): {:.3f}\\n'\n",
        "     .format(linreg.score(X_test, y_test)))"
      ],
      "execution_count": null,
      "outputs": []
    },
    {
      "cell_type": "code",
      "metadata": {
        "id": "Ov-A7Mj8AMA6"
      },
      "source": [
        "X_train, X_test, y_train, y_test = train_test_split(X_F1_poly, y_F1,\n",
        "                                                   random_state = 0)\n",
        "linreg = Ridge().fit(X_train, y_train)\n",
        "\n",
        "print('(poly deg 2 + ridge) linear model coeff (w):\\n{}'\n",
        "     .format(linreg.coef_))\n",
        "print('(poly deg 2 + ridge) linear model intercept (b): {:.3f}'\n",
        "     .format(linreg.intercept_))\n",
        "print('(poly deg 2 + ridge) R-squared score (training): {:.3f}'\n",
        "     .format(linreg.score(X_train, y_train)))\n",
        "print('(poly deg 2 + ridge) R-squared score (test): {:.3f}'\n",
        "     .format(linreg.score(X_test, y_test)))"
      ],
      "execution_count": null,
      "outputs": []
    }
  ]
}